{
  "cells": [
    {
      "cell_type": "markdown",
      "metadata": {
        "id": "k37sd5W8EzBV"
      },
      "source": [
        "# Homework 1\n",
        "\n",
        "This homework contains two parts, Part 1 on Linear Regression and Part 2 on Logistic Regression. Both parts use real world data and will introduce you to techniques used in the workforce! As a reminder, DO NOT edit anything in this python notebook! All of your code will be contained in the functions located in answers.py. You should be able to complete this assignment with no extra imports so please use what we have given you.\n",
        "\n",
        "Some functions you may want to take note of before you start:\n",
        "- Pandas .corr() function to calculate correlation\n",
        "- Pandas .mean(), .median(), .std() functions\n",
        "- Pandas mapping a lambda function eg .map(lambda x: x)\n",
        "- ' '.join(x) function where x is a list\n",
        "- sklearn train_test_split() function\n",
        "- Python strings .isalpha() function\n",
        "- sklearns confusion_matrix() function\n",
        "- Pandas .plot() function\n",
        "- statsmodels .summary() function\n",
        "- numpy .linspace() function\n",
        "- scipy norm.fit(), norm.pdf() functions\n",
        "- statsmodels qqplot() function\n",
        "- statsmodels .predict() function\n",
        "- random.normal() function\n",
        "\n",
        "Make sure you have all of the packages installed, if you do not use this command: \"pip install pandas numpy sklearn matplotlib statsmodels nltk scipy\""
      ]
    },
    {
      "cell_type": "code",
      "execution_count": 50,
      "metadata": {
        "colab": {
          "base_uri": "https://localhost:8080/"
        },
        "id": "rXdT0E-MEzBb",
        "outputId": "a7de9310-1f88-4e68-a5b3-f13d61e8148f"
      },
      "outputs": [
        {
          "output_type": "stream",
          "name": "stdout",
          "text": [
            "The autoreload extension is already loaded. To reload it, use:\n",
            "  %reload_ext autoreload\n"
          ]
        }
      ],
      "source": [
        "# Import all of the necessary packages\n",
        "%load_ext autoreload\n",
        "%autoreload 2\n",
        "import pandas as pd\n",
        "import numpy as np\n",
        "from sklearn.linear_model import LogisticRegression\n",
        "from sklearn.linear_model import LinearRegression\n",
        "from sklearn.model_selection import train_test_split\n",
        "from numpy import random\n",
        "import matplotlib.pyplot as plt\n",
        "from sklearn.metrics import confusion_matrix\n",
        "from statsmodels.formula.api import ols\n",
        "from statsmodels.stats.anova import anova_lm\n",
        "from sklearn.feature_extraction.text import CountVectorizer, TfidfVectorizer\n",
        "from nltk.corpus import stopwords\n",
        "from nltk.tokenize import sent_tokenize, word_tokenize\n",
        "from scipy.stats import norm\n",
        "import nltk\n",
        "from statsmodels.graphics.gofplots import qqplot\n",
        "\n",
        "from answers import *"
      ]
    },
    {
      "cell_type": "markdown",
      "metadata": {
        "id": "J4Ivo53tEzBd"
      },
      "source": [
        "## Linear Regression - Part 1\n",
        "Part 1 of the homework will focus applying Linear Regression to real world data. \n",
        "<br>\n",
        "McDonald's is a global fast food chain that serves hamburgers in 119 different countries. McDonald's flagship hamburger is the Big Mac. Just like all other things in this world, the cost of the Big Mac fluctuates with the enconomy, however, the Big Mac is in a unique position by its presence in over half of the worlds countries. Through this exercise we will use linear regression to see if global markets data can be used to predict the cost of a Big Mac.\n",
        "\n",
        "This is part one of the coding assignment, it will go through cleaning the data we have provided to you and then training a linear regression model on this data to predict the dollar_price variable. The columns in this dataset we will be concerned with are local_price (the price of the big mac in native currency), dollar_ex (the exchange rate of the dollar from that native currency), the dollar_price (the converted dollar value of a big mac), GDP_dollar (the GDP of the dollar at sample time), adj_price (the adjusted big mac price), and USD, EUR, GBP, JPY, and CNY (the values of various world currencies)"
      ]
    },
    {
      "cell_type": "code",
      "execution_count": 51,
      "metadata": {
        "colab": {
          "base_uri": "https://localhost:8080/",
          "height": 650
        },
        "id": "D4fQnb4PEzBe",
        "outputId": "347586b5-c06b-4b0a-dcc2-0f1fab1ef20f"
      },
      "outputs": [
        {
          "output_type": "execute_result",
          "data": {
            "text/html": [
              "\n",
              "  <div id=\"df-65b4e2b2-f884-4efb-8220-ada6dc3a6c33\">\n",
              "    <div class=\"colab-df-container\">\n",
              "      <div>\n",
              "<style scoped>\n",
              "    .dataframe tbody tr th:only-of-type {\n",
              "        vertical-align: middle;\n",
              "    }\n",
              "\n",
              "    .dataframe tbody tr th {\n",
              "        vertical-align: top;\n",
              "    }\n",
              "\n",
              "    .dataframe thead th {\n",
              "        text-align: right;\n",
              "    }\n",
              "</style>\n",
              "<table border=\"1\" class=\"dataframe\">\n",
              "  <thead>\n",
              "    <tr style=\"text-align: right;\">\n",
              "      <th></th>\n",
              "      <th>date</th>\n",
              "      <th>iso_a3</th>\n",
              "      <th>currency_code</th>\n",
              "      <th>name</th>\n",
              "      <th>local_price</th>\n",
              "      <th>dollar_ex</th>\n",
              "      <th>dollar_price</th>\n",
              "      <th>GDP_dollar</th>\n",
              "      <th>adj_price</th>\n",
              "      <th>USD</th>\n",
              "      <th>EUR</th>\n",
              "      <th>GBP</th>\n",
              "      <th>JPY</th>\n",
              "      <th>CNY</th>\n",
              "    </tr>\n",
              "  </thead>\n",
              "  <tbody>\n",
              "    <tr>\n",
              "      <th>0</th>\n",
              "      <td>2011-07-01</td>\n",
              "      <td>ARG</td>\n",
              "      <td>ARS</td>\n",
              "      <td>Argentina</td>\n",
              "      <td>20.00</td>\n",
              "      <td>4.132500</td>\n",
              "      <td>4.839685</td>\n",
              "      <td>9138.177</td>\n",
              "      <td>3.149757</td>\n",
              "      <td>1.01089</td>\n",
              "      <td>0.47526</td>\n",
              "      <td>0.84970</td>\n",
              "      <td>0.90626</td>\n",
              "      <td>0.94622</td>\n",
              "    </tr>\n",
              "    <tr>\n",
              "      <th>1</th>\n",
              "      <td>2011-07-01</td>\n",
              "      <td>AUS</td>\n",
              "      <td>AUD</td>\n",
              "      <td>Australia</td>\n",
              "      <td>4.56</td>\n",
              "      <td>0.922382</td>\n",
              "      <td>4.943724</td>\n",
              "      <td>55589.549</td>\n",
              "      <td>5.792526</td>\n",
              "      <td>0.11695</td>\n",
              "      <td>-0.18056</td>\n",
              "      <td>0.02742</td>\n",
              "      <td>0.05883</td>\n",
              "      <td>0.08103</td>\n",
              "    </tr>\n",
              "    <tr>\n",
              "      <th>2</th>\n",
              "      <td>2011-07-01</td>\n",
              "      <td>BRA</td>\n",
              "      <td>BRL</td>\n",
              "      <td>Brazil</td>\n",
              "      <td>9.50</td>\n",
              "      <td>1.541600</td>\n",
              "      <td>6.162429</td>\n",
              "      <td>10816.487</td>\n",
              "      <td>3.245241</td>\n",
              "      <td>1.48516</td>\n",
              "      <td>0.82320</td>\n",
              "      <td>1.28595</td>\n",
              "      <td>1.35584</td>\n",
              "      <td>1.40524</td>\n",
              "    </tr>\n",
              "    <tr>\n",
              "      <th>3</th>\n",
              "      <td>2011-07-01</td>\n",
              "      <td>GBR</td>\n",
              "      <td>GBP</td>\n",
              "      <td>Britain</td>\n",
              "      <td>2.39</td>\n",
              "      <td>0.614137</td>\n",
              "      <td>3.891637</td>\n",
              "      <td>36119.846</td>\n",
              "      <td>4.684831</td>\n",
              "      <td>0.08714</td>\n",
              "      <td>-0.20243</td>\n",
              "      <td>0.00000</td>\n",
              "      <td>0.03058</td>\n",
              "      <td>0.05218</td>\n",
              "    </tr>\n",
              "    <tr>\n",
              "      <th>4</th>\n",
              "      <td>2011-07-01</td>\n",
              "      <td>CAN</td>\n",
              "      <td>CAD</td>\n",
              "      <td>Canada</td>\n",
              "      <td>4.73</td>\n",
              "      <td>0.945850</td>\n",
              "      <td>5.000793</td>\n",
              "      <td>46214.914</td>\n",
              "      <td>5.259173</td>\n",
              "      <td>0.24443</td>\n",
              "      <td>-0.08704</td>\n",
              "      <td>0.14468</td>\n",
              "      <td>0.17968</td>\n",
              "      <td>0.20441</td>\n",
              "    </tr>\n",
              "    <tr>\n",
              "      <th>...</th>\n",
              "      <td>...</td>\n",
              "      <td>...</td>\n",
              "      <td>...</td>\n",
              "      <td>...</td>\n",
              "      <td>...</td>\n",
              "      <td>...</td>\n",
              "      <td>...</td>\n",
              "      <td>...</td>\n",
              "      <td>...</td>\n",
              "      <td>...</td>\n",
              "      <td>...</td>\n",
              "      <td>...</td>\n",
              "      <td>...</td>\n",
              "      <td>...</td>\n",
              "    </tr>\n",
              "    <tr>\n",
              "      <th>807</th>\n",
              "      <td>2021-07-01</td>\n",
              "      <td>UKR</td>\n",
              "      <td>UAH</td>\n",
              "      <td>Ukraine</td>\n",
              "      <td>65.00</td>\n",
              "      <td>27.220000</td>\n",
              "      <td>2.387950</td>\n",
              "      <td>3653.110</td>\n",
              "      <td>3.063007</td>\n",
              "      <td>-0.25112</td>\n",
              "      <td>-0.31414</td>\n",
              "      <td>-0.25869</td>\n",
              "      <td>-0.00960</td>\n",
              "      <td>-0.24829</td>\n",
              "    </tr>\n",
              "    <tr>\n",
              "      <th>808</th>\n",
              "      <td>2021-07-01</td>\n",
              "      <td>ARE</td>\n",
              "      <td>AED</td>\n",
              "      <td>United Arab Emirates</td>\n",
              "      <td>14.75</td>\n",
              "      <td>3.673150</td>\n",
              "      <td>4.015627</td>\n",
              "      <td>31982.230</td>\n",
              "      <td>4.183747</td>\n",
              "      <td>-0.07801</td>\n",
              "      <td>-0.15560</td>\n",
              "      <td>-0.08734</td>\n",
              "      <td>0.21933</td>\n",
              "      <td>-0.07453</td>\n",
              "    </tr>\n",
              "    <tr>\n",
              "      <th>809</th>\n",
              "      <td>2021-07-01</td>\n",
              "      <td>USA</td>\n",
              "      <td>USD</td>\n",
              "      <td>United States</td>\n",
              "      <td>5.65</td>\n",
              "      <td>1.000000</td>\n",
              "      <td>5.650000</td>\n",
              "      <td>63415.990</td>\n",
              "      <td>5.427311</td>\n",
              "      <td>0.00000</td>\n",
              "      <td>-0.08415</td>\n",
              "      <td>-0.01012</td>\n",
              "      <td>0.32250</td>\n",
              "      <td>0.00378</td>\n",
              "    </tr>\n",
              "    <tr>\n",
              "      <th>810</th>\n",
              "      <td>2021-07-01</td>\n",
              "      <td>URY</td>\n",
              "      <td>UYU</td>\n",
              "      <td>Uruguay</td>\n",
              "      <td>225.00</td>\n",
              "      <td>44.000000</td>\n",
              "      <td>5.113636</td>\n",
              "      <td>15777.960</td>\n",
              "      <td>3.542683</td>\n",
              "      <td>0.38654</td>\n",
              "      <td>0.26986</td>\n",
              "      <td>0.37252</td>\n",
              "      <td>0.83371</td>\n",
              "      <td>0.39178</td>\n",
              "    </tr>\n",
              "    <tr>\n",
              "      <th>811</th>\n",
              "      <td>2021-07-01</td>\n",
              "      <td>VNM</td>\n",
              "      <td>VND</td>\n",
              "      <td>Vietnam</td>\n",
              "      <td>69000.00</td>\n",
              "      <td>23028.500000</td>\n",
              "      <td>2.996287</td>\n",
              "      <td>3498.980</td>\n",
              "      <td>3.056909</td>\n",
              "      <td>-0.05846</td>\n",
              "      <td>-0.13770</td>\n",
              "      <td>-0.06799</td>\n",
              "      <td>0.24518</td>\n",
              "      <td>-0.05491</td>\n",
              "    </tr>\n",
              "  </tbody>\n",
              "</table>\n",
              "<p>812 rows × 14 columns</p>\n",
              "</div>\n",
              "      <button class=\"colab-df-convert\" onclick=\"convertToInteractive('df-65b4e2b2-f884-4efb-8220-ada6dc3a6c33')\"\n",
              "              title=\"Convert this dataframe to an interactive table.\"\n",
              "              style=\"display:none;\">\n",
              "        \n",
              "  <svg xmlns=\"http://www.w3.org/2000/svg\" height=\"24px\"viewBox=\"0 0 24 24\"\n",
              "       width=\"24px\">\n",
              "    <path d=\"M0 0h24v24H0V0z\" fill=\"none\"/>\n",
              "    <path d=\"M18.56 5.44l.94 2.06.94-2.06 2.06-.94-2.06-.94-.94-2.06-.94 2.06-2.06.94zm-11 1L8.5 8.5l.94-2.06 2.06-.94-2.06-.94L8.5 2.5l-.94 2.06-2.06.94zm10 10l.94 2.06.94-2.06 2.06-.94-2.06-.94-.94-2.06-.94 2.06-2.06.94z\"/><path d=\"M17.41 7.96l-1.37-1.37c-.4-.4-.92-.59-1.43-.59-.52 0-1.04.2-1.43.59L10.3 9.45l-7.72 7.72c-.78.78-.78 2.05 0 2.83L4 21.41c.39.39.9.59 1.41.59.51 0 1.02-.2 1.41-.59l7.78-7.78 2.81-2.81c.8-.78.8-2.07 0-2.86zM5.41 20L4 18.59l7.72-7.72 1.47 1.35L5.41 20z\"/>\n",
              "  </svg>\n",
              "      </button>\n",
              "      \n",
              "  <style>\n",
              "    .colab-df-container {\n",
              "      display:flex;\n",
              "      flex-wrap:wrap;\n",
              "      gap: 12px;\n",
              "    }\n",
              "\n",
              "    .colab-df-convert {\n",
              "      background-color: #E8F0FE;\n",
              "      border: none;\n",
              "      border-radius: 50%;\n",
              "      cursor: pointer;\n",
              "      display: none;\n",
              "      fill: #1967D2;\n",
              "      height: 32px;\n",
              "      padding: 0 0 0 0;\n",
              "      width: 32px;\n",
              "    }\n",
              "\n",
              "    .colab-df-convert:hover {\n",
              "      background-color: #E2EBFA;\n",
              "      box-shadow: 0px 1px 2px rgba(60, 64, 67, 0.3), 0px 1px 3px 1px rgba(60, 64, 67, 0.15);\n",
              "      fill: #174EA6;\n",
              "    }\n",
              "\n",
              "    [theme=dark] .colab-df-convert {\n",
              "      background-color: #3B4455;\n",
              "      fill: #D2E3FC;\n",
              "    }\n",
              "\n",
              "    [theme=dark] .colab-df-convert:hover {\n",
              "      background-color: #434B5C;\n",
              "      box-shadow: 0px 1px 3px 1px rgba(0, 0, 0, 0.15);\n",
              "      filter: drop-shadow(0px 1px 2px rgba(0, 0, 0, 0.3));\n",
              "      fill: #FFFFFF;\n",
              "    }\n",
              "  </style>\n",
              "\n",
              "      <script>\n",
              "        const buttonEl =\n",
              "          document.querySelector('#df-65b4e2b2-f884-4efb-8220-ada6dc3a6c33 button.colab-df-convert');\n",
              "        buttonEl.style.display =\n",
              "          google.colab.kernel.accessAllowed ? 'block' : 'none';\n",
              "\n",
              "        async function convertToInteractive(key) {\n",
              "          const element = document.querySelector('#df-65b4e2b2-f884-4efb-8220-ada6dc3a6c33');\n",
              "          const dataTable =\n",
              "            await google.colab.kernel.invokeFunction('convertToInteractive',\n",
              "                                                     [key], {});\n",
              "          if (!dataTable) return;\n",
              "\n",
              "          const docLinkHtml = 'Like what you see? Visit the ' +\n",
              "            '<a target=\"_blank\" href=https://colab.research.google.com/notebooks/data_table.ipynb>data table notebook</a>'\n",
              "            + ' to learn more about interactive tables.';\n",
              "          element.innerHTML = '';\n",
              "          dataTable['output_type'] = 'display_data';\n",
              "          await google.colab.output.renderOutput(dataTable, element);\n",
              "          const docLink = document.createElement('div');\n",
              "          docLink.innerHTML = docLinkHtml;\n",
              "          element.appendChild(docLink);\n",
              "        }\n",
              "      </script>\n",
              "    </div>\n",
              "  </div>\n",
              "  "
            ],
            "text/plain": [
              "           date iso_a3 currency_code  ...      GBP      JPY      CNY\n",
              "0    2011-07-01    ARG           ARS  ...  0.84970  0.90626  0.94622\n",
              "1    2011-07-01    AUS           AUD  ...  0.02742  0.05883  0.08103\n",
              "2    2011-07-01    BRA           BRL  ...  1.28595  1.35584  1.40524\n",
              "3    2011-07-01    GBR           GBP  ...  0.00000  0.03058  0.05218\n",
              "4    2011-07-01    CAN           CAD  ...  0.14468  0.17968  0.20441\n",
              "..          ...    ...           ...  ...      ...      ...      ...\n",
              "807  2021-07-01    UKR           UAH  ... -0.25869 -0.00960 -0.24829\n",
              "808  2021-07-01    ARE           AED  ... -0.08734  0.21933 -0.07453\n",
              "809  2021-07-01    USA           USD  ... -0.01012  0.32250  0.00378\n",
              "810  2021-07-01    URY           UYU  ...  0.37252  0.83371  0.39178\n",
              "811  2021-07-01    VNM           VND  ... -0.06799  0.24518 -0.05491\n",
              "\n",
              "[812 rows x 14 columns]"
            ]
          },
          "metadata": {},
          "execution_count": 51
        }
      ],
      "source": [
        "# Read in the county data as a pandas DataFrame\n",
        "bmdf = pd.read_csv(\"big-mac-adjusted-index.csv\")\n",
        "bmdf"
      ]
    },
    {
      "cell_type": "code",
      "execution_count": 52,
      "metadata": {
        "colab": {
          "base_uri": "https://localhost:8080/"
        },
        "id": "6CP-Y8L7EzBe",
        "outputId": "f458bb8d-e6f1-48bc-c0cb-1b861240d0e0"
      },
      "outputs": [
        {
          "output_type": "execute_result",
          "data": {
            "text/plain": [
              "Index(['date', 'iso_a3', 'currency_code', 'name', 'local_price', 'dollar_ex',\n",
              "       'dollar_price', 'GDP_dollar', 'adj_price', 'USD', 'EUR', 'GBP', 'JPY',\n",
              "       'CNY'],\n",
              "      dtype='object')"
            ]
          },
          "metadata": {},
          "execution_count": 52
        }
      ],
      "source": [
        "# Note the columns that are present, which ones we will be using as independent, and that the dependent column is dollar_price\n",
        "indepCols = ['local_price', 'dollar_ex', 'GDP_dollar', 'adj_price', 'USD', 'EUR', 'GBP', 'JPY', 'CNY']\n",
        "depCol = 'dollar_price'\n",
        "bmdf.columns"
      ]
    },
    {
      "cell_type": "code",
      "execution_count": 53,
      "metadata": {
        "colab": {
          "base_uri": "https://localhost:8080/",
          "height": 284
        },
        "id": "w8fA0HK3EzBf",
        "outputId": "4fec45ba-7188-4d4e-af6d-22bd8c82cec3"
      },
      "outputs": [
        {
          "output_type": "execute_result",
          "data": {
            "text/html": [
              "\n",
              "  <div id=\"df-2be539e6-f200-4040-ac4c-6a90c9250e3b\">\n",
              "    <div class=\"colab-df-container\">\n",
              "      <div>\n",
              "<style scoped>\n",
              "    .dataframe tbody tr th:only-of-type {\n",
              "        vertical-align: middle;\n",
              "    }\n",
              "\n",
              "    .dataframe tbody tr th {\n",
              "        vertical-align: top;\n",
              "    }\n",
              "\n",
              "    .dataframe thead th {\n",
              "        text-align: right;\n",
              "    }\n",
              "</style>\n",
              "<table border=\"1\" class=\"dataframe\">\n",
              "  <thead>\n",
              "    <tr style=\"text-align: right;\">\n",
              "      <th></th>\n",
              "      <th>local_price</th>\n",
              "      <th>dollar_ex</th>\n",
              "      <th>dollar_price</th>\n",
              "      <th>GDP_dollar</th>\n",
              "      <th>adj_price</th>\n",
              "      <th>USD</th>\n",
              "      <th>EUR</th>\n",
              "      <th>GBP</th>\n",
              "      <th>JPY</th>\n",
              "      <th>CNY</th>\n",
              "    </tr>\n",
              "  </thead>\n",
              "  <tbody>\n",
              "    <tr>\n",
              "      <th>count</th>\n",
              "      <td>812.000000</td>\n",
              "      <td>812.000000</td>\n",
              "      <td>812.000000</td>\n",
              "      <td>812.000000</td>\n",
              "      <td>812.000000</td>\n",
              "      <td>812.000000</td>\n",
              "      <td>812.000000</td>\n",
              "      <td>812.000000</td>\n",
              "      <td>812.000000</td>\n",
              "      <td>812.000000</td>\n",
              "    </tr>\n",
              "    <tr>\n",
              "      <th>mean</th>\n",
              "      <td>1449.884729</td>\n",
              "      <td>520.581191</td>\n",
              "      <td>3.640633</td>\n",
              "      <td>25536.976782</td>\n",
              "      <td>3.720229</td>\n",
              "      <td>-0.024053</td>\n",
              "      <td>-0.094143</td>\n",
              "      <td>0.008053</td>\n",
              "      <td>0.223710</td>\n",
              "      <td>0.020544</td>\n",
              "    </tr>\n",
              "    <tr>\n",
              "      <th>std</th>\n",
              "      <td>6014.198852</td>\n",
              "      <td>2331.513241</td>\n",
              "      <td>1.268918</td>\n",
              "      <td>22651.269196</td>\n",
              "      <td>0.961036</td>\n",
              "      <td>0.248176</td>\n",
              "      <td>0.207514</td>\n",
              "      <td>0.240192</td>\n",
              "      <td>0.299500</td>\n",
              "      <td>0.250122</td>\n",
              "    </tr>\n",
              "    <tr>\n",
              "      <th>min</th>\n",
              "      <td>1.100000</td>\n",
              "      <td>0.300800</td>\n",
              "      <td>0.000000</td>\n",
              "      <td>1049.749000</td>\n",
              "      <td>2.327804</td>\n",
              "      <td>-0.577540</td>\n",
              "      <td>-0.583190</td>\n",
              "      <td>-0.590290</td>\n",
              "      <td>-0.456930</td>\n",
              "      <td>-0.554550</td>\n",
              "    </tr>\n",
              "    <tr>\n",
              "      <th>25%</th>\n",
              "      <td>9.100000</td>\n",
              "      <td>2.999250</td>\n",
              "      <td>2.645835</td>\n",
              "      <td>7182.227750</td>\n",
              "      <td>2.977383</td>\n",
              "      <td>-0.186152</td>\n",
              "      <td>-0.226205</td>\n",
              "      <td>-0.138513</td>\n",
              "      <td>0.010437</td>\n",
              "      <td>-0.140245</td>\n",
              "    </tr>\n",
              "    <tr>\n",
              "      <th>50%</th>\n",
              "      <td>28.000000</td>\n",
              "      <td>7.750875</td>\n",
              "      <td>3.475848</td>\n",
              "      <td>14812.563500</td>\n",
              "      <td>3.341639</td>\n",
              "      <td>-0.033465</td>\n",
              "      <td>-0.099610</td>\n",
              "      <td>0.000000</td>\n",
              "      <td>0.200835</td>\n",
              "      <td>0.008645</td>\n",
              "    </tr>\n",
              "    <tr>\n",
              "      <th>75%</th>\n",
              "      <td>119.250000</td>\n",
              "      <td>45.678125</td>\n",
              "      <td>4.425070</td>\n",
              "      <td>41611.455250</td>\n",
              "      <td>4.424376</td>\n",
              "      <td>0.094757</td>\n",
              "      <td>0.015550</td>\n",
              "      <td>0.145228</td>\n",
              "      <td>0.388023</td>\n",
              "      <td>0.141170</td>\n",
              "    </tr>\n",
              "    <tr>\n",
              "      <th>max</th>\n",
              "      <td>69000.000000</td>\n",
              "      <td>23064.000000</td>\n",
              "      <td>8.311708</td>\n",
              "      <td>100578.968000</td>\n",
              "      <td>7.434129</td>\n",
              "      <td>1.485160</td>\n",
              "      <td>0.823200</td>\n",
              "      <td>1.285950</td>\n",
              "      <td>1.621070</td>\n",
              "      <td>1.405240</td>\n",
              "    </tr>\n",
              "  </tbody>\n",
              "</table>\n",
              "</div>\n",
              "      <button class=\"colab-df-convert\" onclick=\"convertToInteractive('df-2be539e6-f200-4040-ac4c-6a90c9250e3b')\"\n",
              "              title=\"Convert this dataframe to an interactive table.\"\n",
              "              style=\"display:none;\">\n",
              "        \n",
              "  <svg xmlns=\"http://www.w3.org/2000/svg\" height=\"24px\"viewBox=\"0 0 24 24\"\n",
              "       width=\"24px\">\n",
              "    <path d=\"M0 0h24v24H0V0z\" fill=\"none\"/>\n",
              "    <path d=\"M18.56 5.44l.94 2.06.94-2.06 2.06-.94-2.06-.94-.94-2.06-.94 2.06-2.06.94zm-11 1L8.5 8.5l.94-2.06 2.06-.94-2.06-.94L8.5 2.5l-.94 2.06-2.06.94zm10 10l.94 2.06.94-2.06 2.06-.94-2.06-.94-.94-2.06-.94 2.06-2.06.94z\"/><path d=\"M17.41 7.96l-1.37-1.37c-.4-.4-.92-.59-1.43-.59-.52 0-1.04.2-1.43.59L10.3 9.45l-7.72 7.72c-.78.78-.78 2.05 0 2.83L4 21.41c.39.39.9.59 1.41.59.51 0 1.02-.2 1.41-.59l7.78-7.78 2.81-2.81c.8-.78.8-2.07 0-2.86zM5.41 20L4 18.59l7.72-7.72 1.47 1.35L5.41 20z\"/>\n",
              "  </svg>\n",
              "      </button>\n",
              "      \n",
              "  <style>\n",
              "    .colab-df-container {\n",
              "      display:flex;\n",
              "      flex-wrap:wrap;\n",
              "      gap: 12px;\n",
              "    }\n",
              "\n",
              "    .colab-df-convert {\n",
              "      background-color: #E8F0FE;\n",
              "      border: none;\n",
              "      border-radius: 50%;\n",
              "      cursor: pointer;\n",
              "      display: none;\n",
              "      fill: #1967D2;\n",
              "      height: 32px;\n",
              "      padding: 0 0 0 0;\n",
              "      width: 32px;\n",
              "    }\n",
              "\n",
              "    .colab-df-convert:hover {\n",
              "      background-color: #E2EBFA;\n",
              "      box-shadow: 0px 1px 2px rgba(60, 64, 67, 0.3), 0px 1px 3px 1px rgba(60, 64, 67, 0.15);\n",
              "      fill: #174EA6;\n",
              "    }\n",
              "\n",
              "    [theme=dark] .colab-df-convert {\n",
              "      background-color: #3B4455;\n",
              "      fill: #D2E3FC;\n",
              "    }\n",
              "\n",
              "    [theme=dark] .colab-df-convert:hover {\n",
              "      background-color: #434B5C;\n",
              "      box-shadow: 0px 1px 3px 1px rgba(0, 0, 0, 0.15);\n",
              "      filter: drop-shadow(0px 1px 2px rgba(0, 0, 0, 0.3));\n",
              "      fill: #FFFFFF;\n",
              "    }\n",
              "  </style>\n",
              "\n",
              "      <script>\n",
              "        const buttonEl =\n",
              "          document.querySelector('#df-2be539e6-f200-4040-ac4c-6a90c9250e3b button.colab-df-convert');\n",
              "        buttonEl.style.display =\n",
              "          google.colab.kernel.accessAllowed ? 'block' : 'none';\n",
              "\n",
              "        async function convertToInteractive(key) {\n",
              "          const element = document.querySelector('#df-2be539e6-f200-4040-ac4c-6a90c9250e3b');\n",
              "          const dataTable =\n",
              "            await google.colab.kernel.invokeFunction('convertToInteractive',\n",
              "                                                     [key], {});\n",
              "          if (!dataTable) return;\n",
              "\n",
              "          const docLinkHtml = 'Like what you see? Visit the ' +\n",
              "            '<a target=\"_blank\" href=https://colab.research.google.com/notebooks/data_table.ipynb>data table notebook</a>'\n",
              "            + ' to learn more about interactive tables.';\n",
              "          element.innerHTML = '';\n",
              "          dataTable['output_type'] = 'display_data';\n",
              "          await google.colab.output.renderOutput(dataTable, element);\n",
              "          const docLink = document.createElement('div');\n",
              "          docLink.innerHTML = docLinkHtml;\n",
              "          element.appendChild(docLink);\n",
              "        }\n",
              "      </script>\n",
              "    </div>\n",
              "  </div>\n",
              "  "
            ],
            "text/plain": [
              "        local_price     dollar_ex  ...         JPY         CNY\n",
              "count    812.000000    812.000000  ...  812.000000  812.000000\n",
              "mean    1449.884729    520.581191  ...    0.223710    0.020544\n",
              "std     6014.198852   2331.513241  ...    0.299500    0.250122\n",
              "min        1.100000      0.300800  ...   -0.456930   -0.554550\n",
              "25%        9.100000      2.999250  ...    0.010437   -0.140245\n",
              "50%       28.000000      7.750875  ...    0.200835    0.008645\n",
              "75%      119.250000     45.678125  ...    0.388023    0.141170\n",
              "max    69000.000000  23064.000000  ...    1.621070    1.405240\n",
              "\n",
              "[8 rows x 10 columns]"
            ]
          },
          "metadata": {},
          "execution_count": 53
        }
      ],
      "source": [
        "# Take a look at some of the attributes of our DataFrame and become familiar with the data\n",
        "bmdf.describe()"
      ]
    },
    {
      "cell_type": "code",
      "execution_count": 54,
      "metadata": {
        "colab": {
          "base_uri": "https://localhost:8080/",
          "height": 343
        },
        "id": "AvgLPPHrEzBg",
        "outputId": "d7e51e65-437a-4a49-e28c-21fc08bc4a3c"
      },
      "outputs": [
        {
          "output_type": "execute_result",
          "data": {
            "text/html": [
              "\n",
              "  <div id=\"df-30816193-e396-4010-a424-3c43eea5cd1b\">\n",
              "    <div class=\"colab-df-container\">\n",
              "      <div>\n",
              "<style scoped>\n",
              "    .dataframe tbody tr th:only-of-type {\n",
              "        vertical-align: middle;\n",
              "    }\n",
              "\n",
              "    .dataframe tbody tr th {\n",
              "        vertical-align: top;\n",
              "    }\n",
              "\n",
              "    .dataframe thead th {\n",
              "        text-align: right;\n",
              "    }\n",
              "</style>\n",
              "<table border=\"1\" class=\"dataframe\">\n",
              "  <thead>\n",
              "    <tr style=\"text-align: right;\">\n",
              "      <th></th>\n",
              "      <th>date</th>\n",
              "      <th>iso_a3</th>\n",
              "      <th>currency_code</th>\n",
              "      <th>name</th>\n",
              "      <th>local_price</th>\n",
              "      <th>dollar_ex</th>\n",
              "      <th>dollar_price</th>\n",
              "      <th>GDP_dollar</th>\n",
              "      <th>adj_price</th>\n",
              "      <th>USD</th>\n",
              "      <th>EUR</th>\n",
              "      <th>GBP</th>\n",
              "      <th>JPY</th>\n",
              "      <th>CNY</th>\n",
              "    </tr>\n",
              "  </thead>\n",
              "  <tbody>\n",
              "    <tr>\n",
              "      <th>30</th>\n",
              "      <td>2011-07-01</td>\n",
              "      <td>KOR</td>\n",
              "      <td>KRW</td>\n",
              "      <td>South Korea</td>\n",
              "      <td>3700.00</td>\n",
              "      <td>1056.20000</td>\n",
              "      <td>0.0</td>\n",
              "      <td>20590.962</td>\n",
              "      <td>3.801343</td>\n",
              "      <td>0.20606</td>\n",
              "      <td>-0.11520</td>\n",
              "      <td>0.10938</td>\n",
              "      <td>0.14330</td>\n",
              "      <td>0.16727</td>\n",
              "    </tr>\n",
              "    <tr>\n",
              "      <th>82</th>\n",
              "      <td>2012-07-01</td>\n",
              "      <td>CZE</td>\n",
              "      <td>CZK</td>\n",
              "      <td>Czech Republic</td>\n",
              "      <td>70.33</td>\n",
              "      <td>21.04800</td>\n",
              "      <td>0.0</td>\n",
              "      <td>18288.284</td>\n",
              "      <td>3.400976</td>\n",
              "      <td>0.05660</td>\n",
              "      <td>-0.04853</td>\n",
              "      <td>-0.01535</td>\n",
              "      <td>0.07136</td>\n",
              "      <td>0.12299</td>\n",
              "    </tr>\n",
              "    <tr>\n",
              "      <th>118</th>\n",
              "      <td>2013-01-01</td>\n",
              "      <td>CZE</td>\n",
              "      <td>CZK</td>\n",
              "      <td>Czech Republic</td>\n",
              "      <td>70.33</td>\n",
              "      <td>18.89495</td>\n",
              "      <td>0.0</td>\n",
              "      <td>20435.875</td>\n",
              "      <td>3.673327</td>\n",
              "      <td>0.13714</td>\n",
              "      <td>-0.05680</td>\n",
              "      <td>0.06912</td>\n",
              "      <td>0.38210</td>\n",
              "      <td>0.18662</td>\n",
              "    </tr>\n",
              "    <tr>\n",
              "      <th>175</th>\n",
              "      <td>2013-07-01</td>\n",
              "      <td>SGP</td>\n",
              "      <td>SGD</td>\n",
              "      <td>Singapore</td>\n",
              "      <td>4.70</td>\n",
              "      <td>1.27470</td>\n",
              "      <td>0.0</td>\n",
              "      <td>49270.872</td>\n",
              "      <td>4.755838</td>\n",
              "      <td>-0.19767</td>\n",
              "      <td>-0.27347</td>\n",
              "      <td>-0.16882</td>\n",
              "      <td>0.11827</td>\n",
              "      <td>-0.14220</td>\n",
              "    </tr>\n",
              "    <tr>\n",
              "      <th>635</th>\n",
              "      <td>2020-01-14</td>\n",
              "      <td>COL</td>\n",
              "      <td>COP</td>\n",
              "      <td>Colombia</td>\n",
              "      <td>11900.00</td>\n",
              "      <td>3287.62500</td>\n",
              "      <td>0.0</td>\n",
              "      <td>6641.507</td>\n",
              "      <td>2.941459</td>\n",
              "      <td>0.10187</td>\n",
              "      <td>0.13275</td>\n",
              "      <td>0.20161</td>\n",
              "      <td>0.45203</td>\n",
              "      <td>0.20311</td>\n",
              "    </tr>\n",
              "  </tbody>\n",
              "</table>\n",
              "</div>\n",
              "      <button class=\"colab-df-convert\" onclick=\"convertToInteractive('df-30816193-e396-4010-a424-3c43eea5cd1b')\"\n",
              "              title=\"Convert this dataframe to an interactive table.\"\n",
              "              style=\"display:none;\">\n",
              "        \n",
              "  <svg xmlns=\"http://www.w3.org/2000/svg\" height=\"24px\"viewBox=\"0 0 24 24\"\n",
              "       width=\"24px\">\n",
              "    <path d=\"M0 0h24v24H0V0z\" fill=\"none\"/>\n",
              "    <path d=\"M18.56 5.44l.94 2.06.94-2.06 2.06-.94-2.06-.94-.94-2.06-.94 2.06-2.06.94zm-11 1L8.5 8.5l.94-2.06 2.06-.94-2.06-.94L8.5 2.5l-.94 2.06-2.06.94zm10 10l.94 2.06.94-2.06 2.06-.94-2.06-.94-.94-2.06-.94 2.06-2.06.94z\"/><path d=\"M17.41 7.96l-1.37-1.37c-.4-.4-.92-.59-1.43-.59-.52 0-1.04.2-1.43.59L10.3 9.45l-7.72 7.72c-.78.78-.78 2.05 0 2.83L4 21.41c.39.39.9.59 1.41.59.51 0 1.02-.2 1.41-.59l7.78-7.78 2.81-2.81c.8-.78.8-2.07 0-2.86zM5.41 20L4 18.59l7.72-7.72 1.47 1.35L5.41 20z\"/>\n",
              "  </svg>\n",
              "      </button>\n",
              "      \n",
              "  <style>\n",
              "    .colab-df-container {\n",
              "      display:flex;\n",
              "      flex-wrap:wrap;\n",
              "      gap: 12px;\n",
              "    }\n",
              "\n",
              "    .colab-df-convert {\n",
              "      background-color: #E8F0FE;\n",
              "      border: none;\n",
              "      border-radius: 50%;\n",
              "      cursor: pointer;\n",
              "      display: none;\n",
              "      fill: #1967D2;\n",
              "      height: 32px;\n",
              "      padding: 0 0 0 0;\n",
              "      width: 32px;\n",
              "    }\n",
              "\n",
              "    .colab-df-convert:hover {\n",
              "      background-color: #E2EBFA;\n",
              "      box-shadow: 0px 1px 2px rgba(60, 64, 67, 0.3), 0px 1px 3px 1px rgba(60, 64, 67, 0.15);\n",
              "      fill: #174EA6;\n",
              "    }\n",
              "\n",
              "    [theme=dark] .colab-df-convert {\n",
              "      background-color: #3B4455;\n",
              "      fill: #D2E3FC;\n",
              "    }\n",
              "\n",
              "    [theme=dark] .colab-df-convert:hover {\n",
              "      background-color: #434B5C;\n",
              "      box-shadow: 0px 1px 3px 1px rgba(0, 0, 0, 0.15);\n",
              "      filter: drop-shadow(0px 1px 2px rgba(0, 0, 0, 0.3));\n",
              "      fill: #FFFFFF;\n",
              "    }\n",
              "  </style>\n",
              "\n",
              "      <script>\n",
              "        const buttonEl =\n",
              "          document.querySelector('#df-30816193-e396-4010-a424-3c43eea5cd1b button.colab-df-convert');\n",
              "        buttonEl.style.display =\n",
              "          google.colab.kernel.accessAllowed ? 'block' : 'none';\n",
              "\n",
              "        async function convertToInteractive(key) {\n",
              "          const element = document.querySelector('#df-30816193-e396-4010-a424-3c43eea5cd1b');\n",
              "          const dataTable =\n",
              "            await google.colab.kernel.invokeFunction('convertToInteractive',\n",
              "                                                     [key], {});\n",
              "          if (!dataTable) return;\n",
              "\n",
              "          const docLinkHtml = 'Like what you see? Visit the ' +\n",
              "            '<a target=\"_blank\" href=https://colab.research.google.com/notebooks/data_table.ipynb>data table notebook</a>'\n",
              "            + ' to learn more about interactive tables.';\n",
              "          element.innerHTML = '';\n",
              "          dataTable['output_type'] = 'display_data';\n",
              "          await google.colab.output.renderOutput(dataTable, element);\n",
              "          const docLink = document.createElement('div');\n",
              "          docLink.innerHTML = docLinkHtml;\n",
              "          element.appendChild(docLink);\n",
              "        }\n",
              "      </script>\n",
              "    </div>\n",
              "  </div>\n",
              "  "
            ],
            "text/plain": [
              "           date iso_a3 currency_code  ...      GBP      JPY      CNY\n",
              "30   2011-07-01    KOR           KRW  ...  0.10938  0.14330  0.16727\n",
              "82   2012-07-01    CZE           CZK  ... -0.01535  0.07136  0.12299\n",
              "118  2013-01-01    CZE           CZK  ...  0.06912  0.38210  0.18662\n",
              "175  2013-07-01    SGP           SGD  ... -0.16882  0.11827 -0.14220\n",
              "635  2020-01-14    COL           COP  ...  0.20161  0.45203  0.20311\n",
              "\n",
              "[5 rows x 14 columns]"
            ]
          },
          "metadata": {},
          "execution_count": 54
        }
      ],
      "source": [
        "# 1.1 (2 pts.) \n",
        "# Edit the python function in answers.py to find all of the rows where dollar_price is zero and return that DataFrame\n",
        "# RETURN: Modified DataFrame\n",
        "findZeroDollarPrice(bmdf)"
      ]
    },
    {
      "cell_type": "code",
      "execution_count": 55,
      "metadata": {
        "id": "3WSIYdrzEzBg"
      },
      "outputs": [],
      "source": [
        "# 1.2 (1 pts.)\n",
        "# It is invalid for a Big Mac to be free (dollar_price = zero) so we will replace the dollar price with NaN (similar to null or \n",
        "# None) use the replace method to replace 0 in the dollar_price column with np.NaN. We do this so the invalid values will not \n",
        "# mess with our mean, median, or standard deviation metrics when replacing these invalid values.\n",
        "# RETURN: Modified DataFrame\n",
        "bmdf = replaceZeroWithNaN(bmdf)"
      ]
    },
    {
      "cell_type": "code",
      "execution_count": 56,
      "metadata": {
        "id": "EeqqIGO6EzBh"
      },
      "outputs": [],
      "source": [
        "# Lets make a test copy for our DataFrame and test a few ways we could try to fix the dollar price NaN values.\n",
        "# Note that pandas is smart, NaN will not be factored into any sort of mean, median, std calculations so we don't have to worry\n",
        "# about this messing with our experiments.\n",
        "bmdfTest = bmdf.copy()"
      ]
    },
    {
      "cell_type": "code",
      "execution_count": 57,
      "metadata": {
        "colab": {
          "base_uri": "https://localhost:8080/"
        },
        "id": "SUDysWH8EzBh",
        "outputId": "c4c52102-2f85-4183-f347-51a12cd4c5d3"
      },
      "outputs": [
        {
          "output_type": "stream",
          "name": "stdout",
          "text": [
            "mean: 3.663189523414681, std: 1.239922830725977, median:3.49059595298967\n"
          ]
        }
      ],
      "source": [
        "# Here we define a function to print the Mean, Standard Deviation, and Median. Note the shortcuts you can use to calculate these\n",
        "# values for a column. We will use this function to show how different handelings of NaN values can influence our dataset, for\n",
        "# example printed from this cell is the metrics for dollar_price if NaN was not counted at all.\n",
        "def printMeanStdMedian(bmdfTest):\n",
        "    print(f'mean: {bmdfTest[\"dollar_price\"].mean()}, std: {bmdfTest[\"dollar_price\"].std()}, median:{bmdfTest[\"dollar_price\"].median()}')\n",
        "printMeanStdMedian(bmdfTest)"
      ]
    },
    {
      "cell_type": "code",
      "execution_count": 58,
      "metadata": {
        "colab": {
          "base_uri": "https://localhost:8080/"
        },
        "id": "7kzehWhxEzBh",
        "outputId": "b4e3de51-51e9-49e9-9f83-c7511c107a6d"
      },
      "outputs": [
        {
          "output_type": "stream",
          "name": "stdout",
          "text": [
            "mean: 3.663189523414681, std: 1.239922830725977, median:3.49059595298967\n"
          ]
        }
      ],
      "source": [
        "# 1.3 (1 pts.) \n",
        "# Fill in the function replaceNaNWithZero that will replace the dollar_price NaN values with zero\n",
        "# RETURN: Modified DataFrame\n",
        "bmdfTest = replaceNaNWithZero(bmdfTest)\n",
        "printMeanStdMedian(bmdf)\n",
        "bmdfTest = bmdf.copy()"
      ]
    },
    {
      "cell_type": "code",
      "execution_count": 59,
      "metadata": {
        "colab": {
          "base_uri": "https://localhost:8080/"
        },
        "id": "RWjQXr2bEzBi",
        "outputId": "ddcdfce7-ff3f-42f3-e1dd-24782d591541"
      },
      "outputs": [
        {
          "output_type": "stream",
          "name": "stdout",
          "text": [
            "3.663189523414681\n",
            "mean: 3.6631895234146805, std: 1.2360947177589992, median:3.500932326945115\n"
          ]
        }
      ],
      "source": [
        "# 1.4 (1 pts.) \n",
        "# Fill in the function replaceNaNWithMean that will replace the dollar_price NaN values with the dollar_price mean\n",
        "# RETURN: Modified DataFrame\n",
        "bmdfTest = replaceNaNWithMean(bmdfTest)\n",
        "printMeanStdMedian(bmdfTest)\n",
        "bmdfTest = bmdf.copy()"
      ]
    },
    {
      "cell_type": "code",
      "execution_count": 60,
      "metadata": {
        "colab": {
          "base_uri": "https://localhost:8080/"
        },
        "id": "ojNm_wfxEzBi",
        "outputId": "59e26b63-a1cc-4c09-a803-881f98e07c36"
      },
      "outputs": [
        {
          "output_type": "stream",
          "name": "stdout",
          "text": [
            "mean: 3.6621267551238863, std: 1.2361685457696439, median:3.49059595298967\n"
          ]
        }
      ],
      "source": [
        "# 1.5 (1 pts.) \n",
        "# Fill in the function replaceNaNWithMedian that will replace the dollar_price NaN values with the dollar_price median \n",
        "# RETURN: Modified DataFrame\n",
        "bmdfTest = replaceNaNWithMedian(bmdfTest)\n",
        "printMeanStdMedian(bmdfTest)\n",
        "bmdfTest = bmdf.copy()"
      ]
    },
    {
      "cell_type": "code",
      "execution_count": 61,
      "metadata": {
        "colab": {
          "base_uri": "https://localhost:8080/"
        },
        "id": "US9rg2hTEzBj",
        "outputId": "bc468519-a383-4b53-bbd7-da20cf5e3fd3"
      },
      "outputs": [
        {
          "output_type": "stream",
          "name": "stdout",
          "text": [
            "mean: 3.650470752711973, std: 1.2466240650708997, median:3.47584836674758\n"
          ]
        }
      ],
      "source": [
        "# 1.6 (2 pts.) \n",
        "# Fill in the function replaceNaNWithNormal that will replace the dollar_price NaN values with random samples from a normal\n",
        "# distribution with the same mean and standard deviation as dollar_price\n",
        "# (hint: use random.normal() to generate values to replace the NaN values)\n",
        "# RETURN: Modified DataFrame\n",
        "bmdfTest = replaceNaNWithNormal(bmdfTest)\n",
        "printMeanStdMedian(bmdfTest)\n",
        "bmdfTest = bmdf.copy()"
      ]
    },
    {
      "cell_type": "code",
      "execution_count": 62,
      "metadata": {
        "colab": {
          "base_uri": "https://localhost:8080/"
        },
        "id": "zRkyAZYEEzBj",
        "outputId": "6eff2fe7-a9a5-4f58-e6c2-2b219a25fb72"
      },
      "outputs": [
        {
          "output_type": "stream",
          "name": "stdout",
          "text": [
            "3.663189523414681\n",
            "mean: 3.6631895234146805, std: 1.2360947177589992, median:3.500932326945115\n"
          ]
        }
      ],
      "source": [
        "# Lets say we have decided on filling our invalid values with the mean\n",
        "bmdf = replaceNaNWithMean(bmdf)\n",
        "printMeanStdMedian(bmdf)"
      ]
    },
    {
      "cell_type": "code",
      "execution_count": 63,
      "metadata": {
        "colab": {
          "base_uri": "https://localhost:8080/",
          "height": 1000
        },
        "id": "0YQbXgxhEzBj",
        "outputId": "4a5563f9-756f-4704-ce4a-763eb30c50ec",
        "scrolled": false
      },
      "outputs": [
        {
          "output_type": "display_data",
          "data": {
            "image/png": "[encoded data removed]",
            "text/plain": [
              "<Figure size 432x288 with 1 Axes>"
            ]
          },
          "metadata": {
            "needs_background": "light"
          }
        },
        {
          "output_type": "display_data",
          "data": {
            "image/png": "[encoded data removed]",
            "text/plain": [
              "<Figure size 432x288 with 1 Axes>"
            ]
          },
          "metadata": {
            "needs_background": "light"
          }
        },
        {
          "output_type": "display_data",
          "data": {
            "image/png": "[encoded data removed]",
            "text/plain": [
              "<Figure size 432x288 with 1 Axes>"
            ]
          },
          "metadata": {
            "needs_background": "light"
          }
        },
        {
          "output_type": "display_data",
          "data": {
            "image/png": "[encoded data removed]",
            "text/plain": [
              "<Figure size 432x288 with 1 Axes>"
            ]
          },
          "metadata": {
            "needs_background": "light"
          }
        },
        {
          "output_type": "display_data",
          "data": {
            "image/png": "[encoded data removed]",
            "text/plain": [
              "<Figure size 432x288 with 1 Axes>"
            ]
          },
          "metadata": {
            "needs_background": "light"
          }
        },
        {
          "output_type": "display_data",
          "data": {
            "image/png": "[encoded data removed]",
            "text/plain": [
              "<Figure size 432x288 with 1 Axes>"
            ]
          },
          "metadata": {
            "needs_background": "light"
          }
        },
        {
          "output_type": "display_data",
          "data": {
            "image/png": "[encoded data removed]",
            "text/plain": [
              "<Figure size 432x288 with 1 Axes>"
            ]
          },
          "metadata": {
            "needs_background": "light"
          }
        },
        {
          "output_type": "display_data",
          "data": {
            "image/png": "[encoded data removed]",
            "text/plain": [
              "<Figure size 432x288 with 1 Axes>"
            ]
          },
          "metadata": {
            "needs_background": "light"
          }
        },
        {
          "output_type": "display_data",
          "data": {
            "image/png": "[encoded data removed]",
            "text/plain": [
              "<Figure size 432x288 with 1 Axes>"
            ]
          },
          "metadata": {
            "needs_background": "light"
          }
        }
      ],
      "source": [
        "# 1.7 (3 pts.)\n",
        "# To get a better idea of our data, we now want to graph scatter plots of each independent variable vs our \n",
        "# dependent variable dollar_price. Fill out the function graphIndepVsDep by graphing each independent variable against\n",
        "# dollar_price. Set a title for each graph and label the x and y axis. \n",
        "# Make sure to display the plots below this cell\n",
        "# RETURN: Nothing, display graphs\n",
        "graphIndepVsDep(bmdf, indepCols)"
      ]
    },
    {
      "cell_type": "code",
      "execution_count": 64,
      "metadata": {
        "colab": {
          "base_uri": "https://localhost:8080/",
          "height": 204
        },
        "id": "D30FPpVcEzBk",
        "outputId": "14c0ca92-8689-4973-a2fc-31bc85d3b1be"
      },
      "outputs": [
        {
          "output_type": "execute_result",
          "data": {
            "text/html": [
              "\n",
              "  <div id=\"df-bbe5ccd5-607b-4795-a62d-949df094c9c4\">\n",
              "    <div class=\"colab-df-container\">\n",
              "      <div>\n",
              "<style scoped>\n",
              "    .dataframe tbody tr th:only-of-type {\n",
              "        vertical-align: middle;\n",
              "    }\n",
              "\n",
              "    .dataframe tbody tr th {\n",
              "        vertical-align: top;\n",
              "    }\n",
              "\n",
              "    .dataframe thead th {\n",
              "        text-align: right;\n",
              "    }\n",
              "</style>\n",
              "<table border=\"1\" class=\"dataframe\">\n",
              "  <thead>\n",
              "    <tr style=\"text-align: right;\">\n",
              "      <th></th>\n",
              "      <th>date</th>\n",
              "      <th>iso_a3</th>\n",
              "      <th>currency_code</th>\n",
              "      <th>name</th>\n",
              "      <th>local_price</th>\n",
              "      <th>dollar_ex</th>\n",
              "      <th>dollar_price</th>\n",
              "      <th>GDP_dollar</th>\n",
              "      <th>adj_price</th>\n",
              "      <th>USD</th>\n",
              "      <th>EUR</th>\n",
              "      <th>GBP</th>\n",
              "      <th>JPY</th>\n",
              "      <th>CNY</th>\n",
              "    </tr>\n",
              "  </thead>\n",
              "  <tbody>\n",
              "    <tr>\n",
              "      <th>756</th>\n",
              "      <td>2021-01-01</td>\n",
              "      <td>VNM</td>\n",
              "      <td>VND</td>\n",
              "      <td>Vietnam</td>\n",
              "      <td>66000.0</td>\n",
              "      <td>23064.0</td>\n",
              "      <td>2.861602</td>\n",
              "      <td>3416.232</td>\n",
              "      <td>3.002480</td>\n",
              "      <td>-0.07421</td>\n",
              "      <td>-0.1780</td>\n",
              "      <td>-0.01747</td>\n",
              "      <td>0.14418</td>\n",
              "      <td>-0.09642</td>\n",
              "    </tr>\n",
              "    <tr>\n",
              "      <th>811</th>\n",
              "      <td>2021-07-01</td>\n",
              "      <td>VNM</td>\n",
              "      <td>VND</td>\n",
              "      <td>Vietnam</td>\n",
              "      <td>69000.0</td>\n",
              "      <td>23028.5</td>\n",
              "      <td>2.996287</td>\n",
              "      <td>3498.980</td>\n",
              "      <td>3.056909</td>\n",
              "      <td>-0.05846</td>\n",
              "      <td>-0.1377</td>\n",
              "      <td>-0.06799</td>\n",
              "      <td>0.24518</td>\n",
              "      <td>-0.05491</td>\n",
              "    </tr>\n",
              "  </tbody>\n",
              "</table>\n",
              "</div>\n",
              "      <button class=\"colab-df-convert\" onclick=\"convertToInteractive('df-bbe5ccd5-607b-4795-a62d-949df094c9c4')\"\n",
              "              title=\"Convert this dataframe to an interactive table.\"\n",
              "              style=\"display:none;\">\n",
              "        \n",
              "  <svg xmlns=\"http://www.w3.org/2000/svg\" height=\"24px\"viewBox=\"0 0 24 24\"\n",
              "       width=\"24px\">\n",
              "    <path d=\"M0 0h24v24H0V0z\" fill=\"none\"/>\n",
              "    <path d=\"M18.56 5.44l.94 2.06.94-2.06 2.06-.94-2.06-.94-.94-2.06-.94 2.06-2.06.94zm-11 1L8.5 8.5l.94-2.06 2.06-.94-2.06-.94L8.5 2.5l-.94 2.06-2.06.94zm10 10l.94 2.06.94-2.06 2.06-.94-2.06-.94-.94-2.06-.94 2.06-2.06.94z\"/><path d=\"M17.41 7.96l-1.37-1.37c-.4-.4-.92-.59-1.43-.59-.52 0-1.04.2-1.43.59L10.3 9.45l-7.72 7.72c-.78.78-.78 2.05 0 2.83L4 21.41c.39.39.9.59 1.41.59.51 0 1.02-.2 1.41-.59l7.78-7.78 2.81-2.81c.8-.78.8-2.07 0-2.86zM5.41 20L4 18.59l7.72-7.72 1.47 1.35L5.41 20z\"/>\n",
              "  </svg>\n",
              "      </button>\n",
              "      \n",
              "  <style>\n",
              "    .colab-df-container {\n",
              "      display:flex;\n",
              "      flex-wrap:wrap;\n",
              "      gap: 12px;\n",
              "    }\n",
              "\n",
              "    .colab-df-convert {\n",
              "      background-color: #E8F0FE;\n",
              "      border: none;\n",
              "      border-radius: 50%;\n",
              "      cursor: pointer;\n",
              "      display: none;\n",
              "      fill: #1967D2;\n",
              "      height: 32px;\n",
              "      padding: 0 0 0 0;\n",
              "      width: 32px;\n",
              "    }\n",
              "\n",
              "    .colab-df-convert:hover {\n",
              "      background-color: #E2EBFA;\n",
              "      box-shadow: 0px 1px 2px rgba(60, 64, 67, 0.3), 0px 1px 3px 1px rgba(60, 64, 67, 0.15);\n",
              "      fill: #174EA6;\n",
              "    }\n",
              "\n",
              "    [theme=dark] .colab-df-convert {\n",
              "      background-color: #3B4455;\n",
              "      fill: #D2E3FC;\n",
              "    }\n",
              "\n",
              "    [theme=dark] .colab-df-convert:hover {\n",
              "      background-color: #434B5C;\n",
              "      box-shadow: 0px 1px 3px 1px rgba(0, 0, 0, 0.15);\n",
              "      filter: drop-shadow(0px 1px 2px rgba(0, 0, 0, 0.3));\n",
              "      fill: #FFFFFF;\n",
              "    }\n",
              "  </style>\n",
              "\n",
              "      <script>\n",
              "        const buttonEl =\n",
              "          document.querySelector('#df-bbe5ccd5-607b-4795-a62d-949df094c9c4 button.colab-df-convert');\n",
              "        buttonEl.style.display =\n",
              "          google.colab.kernel.accessAllowed ? 'block' : 'none';\n",
              "\n",
              "        async function convertToInteractive(key) {\n",
              "          const element = document.querySelector('#df-bbe5ccd5-607b-4795-a62d-949df094c9c4');\n",
              "          const dataTable =\n",
              "            await google.colab.kernel.invokeFunction('convertToInteractive',\n",
              "                                                     [key], {});\n",
              "          if (!dataTable) return;\n",
              "\n",
              "          const docLinkHtml = 'Like what you see? Visit the ' +\n",
              "            '<a target=\"_blank\" href=https://colab.research.google.com/notebooks/data_table.ipynb>data table notebook</a>'\n",
              "            + ' to learn more about interactive tables.';\n",
              "          element.innerHTML = '';\n",
              "          dataTable['output_type'] = 'display_data';\n",
              "          await google.colab.output.renderOutput(dataTable, element);\n",
              "          const docLink = document.createElement('div');\n",
              "          docLink.innerHTML = docLinkHtml;\n",
              "          element.appendChild(docLink);\n",
              "        }\n",
              "      </script>\n",
              "    </div>\n",
              "  </div>\n",
              "  "
            ],
            "text/plain": [
              "           date iso_a3 currency_code  ...      GBP      JPY      CNY\n",
              "756  2021-01-01    VNM           VND  ... -0.01747  0.14418 -0.09642\n",
              "811  2021-07-01    VNM           VND  ... -0.06799  0.24518 -0.05491\n",
              "\n",
              "[2 rows x 14 columns]"
            ]
          },
          "metadata": {},
          "execution_count": 64
        }
      ],
      "source": [
        "# 1.8 (1 pts.) \n",
        "# Interesting... there seems to be two points in particular with a significantly higher (>60,000) local_price. Fill in the\n",
        "# localPriceOutlier function to return the two points rows as a dataframe.\n",
        "# RETURN: DataFrame with outliers\n",
        "localPriceOutlier(bmdf)"
      ]
    },
    {
      "cell_type": "code",
      "execution_count": 65,
      "metadata": {
        "colab": {
          "base_uri": "https://localhost:8080/",
          "height": 204
        },
        "id": "quge5V-8EzBk",
        "outputId": "27acc850-6709-4951-bb68-260aae711843"
      },
      "outputs": [
        {
          "output_type": "execute_result",
          "data": {
            "text/html": [
              "\n",
              "  <div id=\"df-fc9507bc-70fb-44a0-9220-0aa1d1438de0\">\n",
              "    <div class=\"colab-df-container\">\n",
              "      <div>\n",
              "<style scoped>\n",
              "    .dataframe tbody tr th:only-of-type {\n",
              "        vertical-align: middle;\n",
              "    }\n",
              "\n",
              "    .dataframe tbody tr th {\n",
              "        vertical-align: top;\n",
              "    }\n",
              "\n",
              "    .dataframe thead th {\n",
              "        text-align: right;\n",
              "    }\n",
              "</style>\n",
              "<table border=\"1\" class=\"dataframe\">\n",
              "  <thead>\n",
              "    <tr style=\"text-align: right;\">\n",
              "      <th></th>\n",
              "      <th>date</th>\n",
              "      <th>iso_a3</th>\n",
              "      <th>currency_code</th>\n",
              "      <th>name</th>\n",
              "      <th>local_price</th>\n",
              "      <th>dollar_ex</th>\n",
              "      <th>dollar_price</th>\n",
              "      <th>GDP_dollar</th>\n",
              "      <th>adj_price</th>\n",
              "      <th>USD</th>\n",
              "      <th>EUR</th>\n",
              "      <th>GBP</th>\n",
              "      <th>JPY</th>\n",
              "      <th>CNY</th>\n",
              "    </tr>\n",
              "  </thead>\n",
              "  <tbody>\n",
              "    <tr>\n",
              "      <th>756</th>\n",
              "      <td>2021-01-01</td>\n",
              "      <td>VNM</td>\n",
              "      <td>VND</td>\n",
              "      <td>Vietnam</td>\n",
              "      <td>66000.0</td>\n",
              "      <td>23064.0</td>\n",
              "      <td>2.861602</td>\n",
              "      <td>3416.232</td>\n",
              "      <td>3.002480</td>\n",
              "      <td>-0.07421</td>\n",
              "      <td>-0.1780</td>\n",
              "      <td>-0.01747</td>\n",
              "      <td>0.14418</td>\n",
              "      <td>-0.09642</td>\n",
              "    </tr>\n",
              "    <tr>\n",
              "      <th>811</th>\n",
              "      <td>2021-07-01</td>\n",
              "      <td>VNM</td>\n",
              "      <td>VND</td>\n",
              "      <td>Vietnam</td>\n",
              "      <td>69000.0</td>\n",
              "      <td>23028.5</td>\n",
              "      <td>2.996287</td>\n",
              "      <td>3498.980</td>\n",
              "      <td>3.056909</td>\n",
              "      <td>-0.05846</td>\n",
              "      <td>-0.1377</td>\n",
              "      <td>-0.06799</td>\n",
              "      <td>0.24518</td>\n",
              "      <td>-0.05491</td>\n",
              "    </tr>\n",
              "  </tbody>\n",
              "</table>\n",
              "</div>\n",
              "      <button class=\"colab-df-convert\" onclick=\"convertToInteractive('df-fc9507bc-70fb-44a0-9220-0aa1d1438de0')\"\n",
              "              title=\"Convert this dataframe to an interactive table.\"\n",
              "              style=\"display:none;\">\n",
              "        \n",
              "  <svg xmlns=\"http://www.w3.org/2000/svg\" height=\"24px\"viewBox=\"0 0 24 24\"\n",
              "       width=\"24px\">\n",
              "    <path d=\"M0 0h24v24H0V0z\" fill=\"none\"/>\n",
              "    <path d=\"M18.56 5.44l.94 2.06.94-2.06 2.06-.94-2.06-.94-.94-2.06-.94 2.06-2.06.94zm-11 1L8.5 8.5l.94-2.06 2.06-.94-2.06-.94L8.5 2.5l-.94 2.06-2.06.94zm10 10l.94 2.06.94-2.06 2.06-.94-2.06-.94-.94-2.06-.94 2.06-2.06.94z\"/><path d=\"M17.41 7.96l-1.37-1.37c-.4-.4-.92-.59-1.43-.59-.52 0-1.04.2-1.43.59L10.3 9.45l-7.72 7.72c-.78.78-.78 2.05 0 2.83L4 21.41c.39.39.9.59 1.41.59.51 0 1.02-.2 1.41-.59l7.78-7.78 2.81-2.81c.8-.78.8-2.07 0-2.86zM5.41 20L4 18.59l7.72-7.72 1.47 1.35L5.41 20z\"/>\n",
              "  </svg>\n",
              "      </button>\n",
              "      \n",
              "  <style>\n",
              "    .colab-df-container {\n",
              "      display:flex;\n",
              "      flex-wrap:wrap;\n",
              "      gap: 12px;\n",
              "    }\n",
              "\n",
              "    .colab-df-convert {\n",
              "      background-color: #E8F0FE;\n",
              "      border: none;\n",
              "      border-radius: 50%;\n",
              "      cursor: pointer;\n",
              "      display: none;\n",
              "      fill: #1967D2;\n",
              "      height: 32px;\n",
              "      padding: 0 0 0 0;\n",
              "      width: 32px;\n",
              "    }\n",
              "\n",
              "    .colab-df-convert:hover {\n",
              "      background-color: #E2EBFA;\n",
              "      box-shadow: 0px 1px 2px rgba(60, 64, 67, 0.3), 0px 1px 3px 1px rgba(60, 64, 67, 0.15);\n",
              "      fill: #174EA6;\n",
              "    }\n",
              "\n",
              "    [theme=dark] .colab-df-convert {\n",
              "      background-color: #3B4455;\n",
              "      fill: #D2E3FC;\n",
              "    }\n",
              "\n",
              "    [theme=dark] .colab-df-convert:hover {\n",
              "      background-color: #434B5C;\n",
              "      box-shadow: 0px 1px 3px 1px rgba(0, 0, 0, 0.15);\n",
              "      filter: drop-shadow(0px 1px 2px rgba(0, 0, 0, 0.3));\n",
              "      fill: #FFFFFF;\n",
              "    }\n",
              "  </style>\n",
              "\n",
              "      <script>\n",
              "        const buttonEl =\n",
              "          document.querySelector('#df-fc9507bc-70fb-44a0-9220-0aa1d1438de0 button.colab-df-convert');\n",
              "        buttonEl.style.display =\n",
              "          google.colab.kernel.accessAllowed ? 'block' : 'none';\n",
              "\n",
              "        async function convertToInteractive(key) {\n",
              "          const element = document.querySelector('#df-fc9507bc-70fb-44a0-9220-0aa1d1438de0');\n",
              "          const dataTable =\n",
              "            await google.colab.kernel.invokeFunction('convertToInteractive',\n",
              "                                                     [key], {});\n",
              "          if (!dataTable) return;\n",
              "\n",
              "          const docLinkHtml = 'Like what you see? Visit the ' +\n",
              "            '<a target=\"_blank\" href=https://colab.research.google.com/notebooks/data_table.ipynb>data table notebook</a>'\n",
              "            + ' to learn more about interactive tables.';\n",
              "          element.innerHTML = '';\n",
              "          dataTable['output_type'] = 'display_data';\n",
              "          await google.colab.output.renderOutput(dataTable, element);\n",
              "          const docLink = document.createElement('div');\n",
              "          docLink.innerHTML = docLinkHtml;\n",
              "          element.appendChild(docLink);\n",
              "        }\n",
              "      </script>\n",
              "    </div>\n",
              "  </div>\n",
              "  "
            ],
            "text/plain": [
              "           date iso_a3 currency_code  ...      GBP      JPY      CNY\n",
              "756  2021-01-01    VNM           VND  ... -0.01747  0.14418 -0.09642\n",
              "811  2021-07-01    VNM           VND  ... -0.06799  0.24518 -0.05491\n",
              "\n",
              "[2 rows x 14 columns]"
            ]
          },
          "metadata": {},
          "execution_count": 65
        }
      ],
      "source": [
        "# 1.9 (1 pts.)\n",
        "# There seems to be a similar occurance with the dollar_ex variable, fill out the dollarExOutliers function to output all\n",
        "# the information about rows with more than 20,000 dollar_ex\n",
        "# RETURN: DataFrame with outliers\n",
        "dollarExOutliers(bmdf)"
      ]
    },
    {
      "cell_type": "code",
      "execution_count": 66,
      "metadata": {
        "colab": {
          "base_uri": "https://localhost:8080/",
          "height": 275
        },
        "id": "1sT7S3AdEzBl",
        "outputId": "32c5be23-4ad0-4cfa-d290-1285b0de524b"
      },
      "outputs": [
        {
          "output_type": "display_data",
          "data": {
            "image/png": "[encoded data removed]",
            "text/plain": [
              "<Figure size 288x288 with 1 Axes>"
            ]
          },
          "metadata": {
            "needs_background": "light"
          }
        }
      ],
      "source": [
        "# 1.10 (3 pts.) \n",
        "# Lets check the correlation between all of our numeric variables. Fill in the function correlationHeatmap that will calculate\n",
        "# the correlation matrix of all our variables and then graph them as a heatmap. \n",
        "# Make sure to display the plot below this cell\n",
        "# RETURN: Nothing, display a graph\n",
        "correlationHeatmap(bmdf)"
      ]
    },
    {
      "cell_type": "code",
      "execution_count": 23,
      "metadata": {
        "colab": {
          "base_uri": "https://localhost:8080/"
        },
        "id": "W5EK6F1zEzBl",
        "outputId": "1dd903ea-f57f-4473-b004-de7c800aabe0"
      },
      "outputs": [
        {
          "output_type": "stream",
          "name": "stdout",
          "text": [
            "                            OLS Regression Results                            \n",
            "==============================================================================\n",
            "Dep. Variable:           dollar_price   R-squared:                       0.932\n",
            "Model:                            OLS   Adj. R-squared:                  0.932\n",
            "Method:                 Least Squares   F-statistic:                     5562.\n",
            "Date:                Wed, 26 Jan 2022   Prob (F-statistic):               0.00\n",
            "Time:                        22:10:38   Log-Likelihood:                -231.13\n",
            "No. Observations:                 812   AIC:                             468.3\n",
            "Df Residuals:                     809   BIC:                             482.3\n",
            "Df Model:                           2                                         \n",
            "Covariance Type:            nonrobust                                         \n",
            "==============================================================================\n",
            "                 coef    std err          t      P>|t|      [0.025      0.975]\n",
            "------------------------------------------------------------------------------\n",
            "Intercept      2.6563      0.017    155.650      0.000       2.623       2.690\n",
            "GDP_dollar  4.223e-05      5e-07     84.504      0.000    4.12e-05    4.32e-05\n",
            "USD            2.9709      0.046     65.141      0.000       2.881       3.060\n",
            "==============================================================================\n",
            "Omnibus:                       66.240   Durbin-Watson:                   0.983\n",
            "Prob(Omnibus):                  0.000   Jarque-Bera (JB):               84.980\n",
            "Skew:                          -0.683   Prob(JB):                     3.52e-19\n",
            "Kurtosis:                       3.803   Cond. No.                     1.38e+05\n",
            "==============================================================================\n",
            "\n",
            "Warnings:\n",
            "[1] Standard Errors assume that the covariance matrix of the errors is correctly specified.\n",
            "[2] The condition number is large, 1.38e+05. This might indicate that there are\n",
            "strong multicollinearity or other numerical problems.\n"
          ]
        }
      ],
      "source": [
        "# 1.11 (3 pts.) \n",
        "# Now lets do some Linear Regression! Fill in the linearRegressionFit function using the ols and fit function from statsmodels.\n",
        "# Use GDP_dollar and USD as independent variables and dollar_price as the dependent variable.\n",
        "# Print the model summary as part of the linearRegressionFit function. linearRegressionFit should return the fitted model.\n",
        "# RETURN: Linear Regression model\n",
        "model = linearRegressionFit(bmdf)"
      ]
    },
    {
      "cell_type": "code",
      "execution_count": 24,
      "metadata": {
        "colab": {
          "base_uri": "https://localhost:8080/"
        },
        "id": "HDdnOS06EzBl",
        "outputId": "3a111542-bd59-46ff-ab1b-6e34c5ffa0b7"
      },
      "outputs": [
        {
          "output_type": "execute_result",
          "data": {
            "text/plain": [
              "Intercept     2.656314\n",
              "GDP_dollar    0.000042\n",
              "USD           2.970923\n",
              "dtype: float64"
            ]
          },
          "metadata": {},
          "execution_count": 24
        }
      ],
      "source": [
        "# Notice the actual weights assigned to our parameters\n",
        "model.params"
      ]
    },
    {
      "cell_type": "code",
      "execution_count": 25,
      "metadata": {
        "colab": {
          "base_uri": "https://localhost:8080/"
        },
        "id": "aFGJwln0EzBm",
        "outputId": "06c9dc55-e251-4f85-8f48-d02ec7ed14c8"
      },
      "outputs": [
        {
          "output_type": "execute_result",
          "data": {
            "text/plain": [
              "Intercept     0.0\n",
              "GDP_dollar    0.0\n",
              "USD           0.0\n",
              "dtype: float64"
            ]
          },
          "metadata": {},
          "execution_count": 25
        }
      ],
      "source": [
        "# Notice the p values assigned to our parameters, they are low because both variables have a significant effect on the model\n",
        "model.pvalues"
      ]
    },
    {
      "cell_type": "code",
      "execution_count": 26,
      "metadata": {
        "colab": {
          "base_uri": "https://localhost:8080/"
        },
        "id": "vXPv-GEkEzBm",
        "outputId": "92d19f75-5520-47c2-ceee-2f55157b32c2"
      },
      "outputs": [
        {
          "output_type": "execute_result",
          "data": {
            "text/plain": [
              "0.9322061412660286"
            ]
          },
          "metadata": {},
          "execution_count": 26
        }
      ],
      "source": [
        "# We can even look at the rsquared value\n",
        "model.rsquared"
      ]
    },
    {
      "cell_type": "code",
      "execution_count": 27,
      "metadata": {
        "colab": {
          "base_uri": "https://localhost:8080/",
          "height": 446
        },
        "id": "pi4z1Xy-EzBm",
        "outputId": "4e0d635b-4cfc-4b3a-d8a7-17bfd90c3fc3"
      },
      "outputs": [
        {
          "output_type": "execute_result",
          "data": {
            "text/html": [
              "\n",
              "  <div id=\"df-e2817eb4-2272-4298-b5e2-d56c8231a84d\">\n",
              "    <div class=\"colab-df-container\">\n",
              "      <div>\n",
              "<style scoped>\n",
              "    .dataframe tbody tr th:only-of-type {\n",
              "        vertical-align: middle;\n",
              "    }\n",
              "\n",
              "    .dataframe tbody tr th {\n",
              "        vertical-align: top;\n",
              "    }\n",
              "\n",
              "    .dataframe thead th {\n",
              "        text-align: right;\n",
              "    }\n",
              "</style>\n",
              "<table border=\"1\" class=\"dataframe\">\n",
              "  <thead>\n",
              "    <tr style=\"text-align: right;\">\n",
              "      <th></th>\n",
              "      <th>date</th>\n",
              "      <th>iso_a3</th>\n",
              "      <th>currency_code</th>\n",
              "      <th>name</th>\n",
              "      <th>local_price</th>\n",
              "      <th>dollar_ex</th>\n",
              "      <th>dollar_price</th>\n",
              "      <th>GDP_dollar</th>\n",
              "      <th>adj_price</th>\n",
              "      <th>USD</th>\n",
              "      <th>EUR</th>\n",
              "      <th>GBP</th>\n",
              "      <th>JPY</th>\n",
              "      <th>CNY</th>\n",
              "      <th>residual</th>\n",
              "    </tr>\n",
              "  </thead>\n",
              "  <tbody>\n",
              "    <tr>\n",
              "      <th>0</th>\n",
              "      <td>2011-07-01</td>\n",
              "      <td>ARG</td>\n",
              "      <td>ARS</td>\n",
              "      <td>Argentina</td>\n",
              "      <td>20.00</td>\n",
              "      <td>4.132500</td>\n",
              "      <td>4.839685</td>\n",
              "      <td>9138.177</td>\n",
              "      <td>3.149757</td>\n",
              "      <td>1.01089</td>\n",
              "      <td>0.47526</td>\n",
              "      <td>0.84970</td>\n",
              "      <td>0.90626</td>\n",
              "      <td>0.94622</td>\n",
              "      <td>-1.205778</td>\n",
              "    </tr>\n",
              "    <tr>\n",
              "      <th>1</th>\n",
              "      <td>2011-07-01</td>\n",
              "      <td>AUS</td>\n",
              "      <td>AUD</td>\n",
              "      <td>Australia</td>\n",
              "      <td>4.56</td>\n",
              "      <td>0.922382</td>\n",
              "      <td>4.943724</td>\n",
              "      <td>55589.549</td>\n",
              "      <td>5.792526</td>\n",
              "      <td>0.11695</td>\n",
              "      <td>-0.18056</td>\n",
              "      <td>0.02742</td>\n",
              "      <td>0.05883</td>\n",
              "      <td>0.08103</td>\n",
              "      <td>-0.407390</td>\n",
              "    </tr>\n",
              "    <tr>\n",
              "      <th>2</th>\n",
              "      <td>2011-07-01</td>\n",
              "      <td>BRA</td>\n",
              "      <td>BRL</td>\n",
              "      <td>Brazil</td>\n",
              "      <td>9.50</td>\n",
              "      <td>1.541600</td>\n",
              "      <td>6.162429</td>\n",
              "      <td>10816.487</td>\n",
              "      <td>3.245241</td>\n",
              "      <td>1.48516</td>\n",
              "      <td>0.82320</td>\n",
              "      <td>1.28595</td>\n",
              "      <td>1.35584</td>\n",
              "      <td>1.40524</td>\n",
              "      <td>-1.362924</td>\n",
              "    </tr>\n",
              "    <tr>\n",
              "      <th>3</th>\n",
              "      <td>2011-07-01</td>\n",
              "      <td>GBR</td>\n",
              "      <td>GBP</td>\n",
              "      <td>Britain</td>\n",
              "      <td>2.39</td>\n",
              "      <td>0.614137</td>\n",
              "      <td>3.891637</td>\n",
              "      <td>36119.846</td>\n",
              "      <td>4.684831</td>\n",
              "      <td>0.08714</td>\n",
              "      <td>-0.20243</td>\n",
              "      <td>0.00000</td>\n",
              "      <td>0.03058</td>\n",
              "      <td>0.05218</td>\n",
              "      <td>-0.548777</td>\n",
              "    </tr>\n",
              "    <tr>\n",
              "      <th>4</th>\n",
              "      <td>2011-07-01</td>\n",
              "      <td>CAN</td>\n",
              "      <td>CAD</td>\n",
              "      <td>Canada</td>\n",
              "      <td>4.73</td>\n",
              "      <td>0.945850</td>\n",
              "      <td>5.000793</td>\n",
              "      <td>46214.914</td>\n",
              "      <td>5.259173</td>\n",
              "      <td>0.24443</td>\n",
              "      <td>-0.08704</td>\n",
              "      <td>0.14468</td>\n",
              "      <td>0.17968</td>\n",
              "      <td>0.20441</td>\n",
              "      <td>-0.333197</td>\n",
              "    </tr>\n",
              "    <tr>\n",
              "      <th>...</th>\n",
              "      <td>...</td>\n",
              "      <td>...</td>\n",
              "      <td>...</td>\n",
              "      <td>...</td>\n",
              "      <td>...</td>\n",
              "      <td>...</td>\n",
              "      <td>...</td>\n",
              "      <td>...</td>\n",
              "      <td>...</td>\n",
              "      <td>...</td>\n",
              "      <td>...</td>\n",
              "      <td>...</td>\n",
              "      <td>...</td>\n",
              "      <td>...</td>\n",
              "      <td>...</td>\n",
              "    </tr>\n",
              "    <tr>\n",
              "      <th>807</th>\n",
              "      <td>2021-07-01</td>\n",
              "      <td>UKR</td>\n",
              "      <td>UAH</td>\n",
              "      <td>Ukraine</td>\n",
              "      <td>65.00</td>\n",
              "      <td>27.220000</td>\n",
              "      <td>2.387950</td>\n",
              "      <td>3653.110</td>\n",
              "      <td>3.063007</td>\n",
              "      <td>-0.25112</td>\n",
              "      <td>-0.31414</td>\n",
              "      <td>-0.25869</td>\n",
              "      <td>-0.00960</td>\n",
              "      <td>-0.24829</td>\n",
              "      <td>0.323436</td>\n",
              "    </tr>\n",
              "    <tr>\n",
              "      <th>808</th>\n",
              "      <td>2021-07-01</td>\n",
              "      <td>ARE</td>\n",
              "      <td>AED</td>\n",
              "      <td>United Arab Emirates</td>\n",
              "      <td>14.75</td>\n",
              "      <td>3.673150</td>\n",
              "      <td>4.015627</td>\n",
              "      <td>31982.230</td>\n",
              "      <td>4.183747</td>\n",
              "      <td>-0.07801</td>\n",
              "      <td>-0.15560</td>\n",
              "      <td>-0.08734</td>\n",
              "      <td>0.21933</td>\n",
              "      <td>-0.07453</td>\n",
              "      <td>0.240578</td>\n",
              "    </tr>\n",
              "    <tr>\n",
              "      <th>809</th>\n",
              "      <td>2021-07-01</td>\n",
              "      <td>USA</td>\n",
              "      <td>USD</td>\n",
              "      <td>United States</td>\n",
              "      <td>5.65</td>\n",
              "      <td>1.000000</td>\n",
              "      <td>5.650000</td>\n",
              "      <td>63415.990</td>\n",
              "      <td>5.427311</td>\n",
              "      <td>0.00000</td>\n",
              "      <td>-0.08415</td>\n",
              "      <td>-0.01012</td>\n",
              "      <td>0.32250</td>\n",
              "      <td>0.00378</td>\n",
              "      <td>0.315852</td>\n",
              "    </tr>\n",
              "    <tr>\n",
              "      <th>810</th>\n",
              "      <td>2021-07-01</td>\n",
              "      <td>URY</td>\n",
              "      <td>UYU</td>\n",
              "      <td>Uruguay</td>\n",
              "      <td>225.00</td>\n",
              "      <td>44.000000</td>\n",
              "      <td>5.113636</td>\n",
              "      <td>15777.960</td>\n",
              "      <td>3.542683</td>\n",
              "      <td>0.38654</td>\n",
              "      <td>0.26986</td>\n",
              "      <td>0.37252</td>\n",
              "      <td>0.83371</td>\n",
              "      <td>0.39178</td>\n",
              "      <td>0.642694</td>\n",
              "    </tr>\n",
              "    <tr>\n",
              "      <th>811</th>\n",
              "      <td>2021-07-01</td>\n",
              "      <td>VNM</td>\n",
              "      <td>VND</td>\n",
              "      <td>Vietnam</td>\n",
              "      <td>69000.00</td>\n",
              "      <td>23028.500000</td>\n",
              "      <td>2.996287</td>\n",
              "      <td>3498.980</td>\n",
              "      <td>3.056909</td>\n",
              "      <td>-0.05846</td>\n",
              "      <td>-0.13770</td>\n",
              "      <td>-0.06799</td>\n",
              "      <td>0.24518</td>\n",
              "      <td>-0.05491</td>\n",
              "      <td>0.365904</td>\n",
              "    </tr>\n",
              "  </tbody>\n",
              "</table>\n",
              "<p>812 rows × 15 columns</p>\n",
              "</div>\n",
              "      <button class=\"colab-df-convert\" onclick=\"convertToInteractive('df-e2817eb4-2272-4298-b5e2-d56c8231a84d')\"\n",
              "              title=\"Convert this dataframe to an interactive table.\"\n",
              "              style=\"display:none;\">\n",
              "        \n",
              "  <svg xmlns=\"http://www.w3.org/2000/svg\" height=\"24px\"viewBox=\"0 0 24 24\"\n",
              "       width=\"24px\">\n",
              "    <path d=\"M0 0h24v24H0V0z\" fill=\"none\"/>\n",
              "    <path d=\"M18.56 5.44l.94 2.06.94-2.06 2.06-.94-2.06-.94-.94-2.06-.94 2.06-2.06.94zm-11 1L8.5 8.5l.94-2.06 2.06-.94-2.06-.94L8.5 2.5l-.94 2.06-2.06.94zm10 10l.94 2.06.94-2.06 2.06-.94-2.06-.94-.94-2.06-.94 2.06-2.06.94z\"/><path d=\"M17.41 7.96l-1.37-1.37c-.4-.4-.92-.59-1.43-.59-.52 0-1.04.2-1.43.59L10.3 9.45l-7.72 7.72c-.78.78-.78 2.05 0 2.83L4 21.41c.39.39.9.59 1.41.59.51 0 1.02-.2 1.41-.59l7.78-7.78 2.81-2.81c.8-.78.8-2.07 0-2.86zM5.41 20L4 18.59l7.72-7.72 1.47 1.35L5.41 20z\"/>\n",
              "  </svg>\n",
              "      </button>\n",
              "      \n",
              "  <style>\n",
              "    .colab-df-container {\n",
              "      display:flex;\n",
              "      flex-wrap:wrap;\n",
              "      gap: 12px;\n",
              "    }\n",
              "\n",
              "    .colab-df-convert {\n",
              "      background-color: #E8F0FE;\n",
              "      border: none;\n",
              "      border-radius: 50%;\n",
              "      cursor: pointer;\n",
              "      display: none;\n",
              "      fill: #1967D2;\n",
              "      height: 32px;\n",
              "      padding: 0 0 0 0;\n",
              "      width: 32px;\n",
              "    }\n",
              "\n",
              "    .colab-df-convert:hover {\n",
              "      background-color: #E2EBFA;\n",
              "      box-shadow: 0px 1px 2px rgba(60, 64, 67, 0.3), 0px 1px 3px 1px rgba(60, 64, 67, 0.15);\n",
              "      fill: #174EA6;\n",
              "    }\n",
              "\n",
              "    [theme=dark] .colab-df-convert {\n",
              "      background-color: #3B4455;\n",
              "      fill: #D2E3FC;\n",
              "    }\n",
              "\n",
              "    [theme=dark] .colab-df-convert:hover {\n",
              "      background-color: #434B5C;\n",
              "      box-shadow: 0px 1px 3px 1px rgba(0, 0, 0, 0.15);\n",
              "      filter: drop-shadow(0px 1px 2px rgba(0, 0, 0, 0.3));\n",
              "      fill: #FFFFFF;\n",
              "    }\n",
              "  </style>\n",
              "\n",
              "      <script>\n",
              "        const buttonEl =\n",
              "          document.querySelector('#df-e2817eb4-2272-4298-b5e2-d56c8231a84d button.colab-df-convert');\n",
              "        buttonEl.style.display =\n",
              "          google.colab.kernel.accessAllowed ? 'block' : 'none';\n",
              "\n",
              "        async function convertToInteractive(key) {\n",
              "          const element = document.querySelector('#df-e2817eb4-2272-4298-b5e2-d56c8231a84d');\n",
              "          const dataTable =\n",
              "            await google.colab.kernel.invokeFunction('convertToInteractive',\n",
              "                                                     [key], {});\n",
              "          if (!dataTable) return;\n",
              "\n",
              "          const docLinkHtml = 'Like what you see? Visit the ' +\n",
              "            '<a target=\"_blank\" href=https://colab.research.google.com/notebooks/data_table.ipynb>data table notebook</a>'\n",
              "            + ' to learn more about interactive tables.';\n",
              "          element.innerHTML = '';\n",
              "          dataTable['output_type'] = 'display_data';\n",
              "          await google.colab.output.renderOutput(dataTable, element);\n",
              "          const docLink = document.createElement('div');\n",
              "          docLink.innerHTML = docLinkHtml;\n",
              "          element.appendChild(docLink);\n",
              "        }\n",
              "      </script>\n",
              "    </div>\n",
              "  </div>\n",
              "  "
            ],
            "text/plain": [
              "           date iso_a3 currency_code  ...      JPY      CNY  residual\n",
              "0    2011-07-01    ARG           ARS  ...  0.90626  0.94622 -1.205778\n",
              "1    2011-07-01    AUS           AUD  ...  0.05883  0.08103 -0.407390\n",
              "2    2011-07-01    BRA           BRL  ...  1.35584  1.40524 -1.362924\n",
              "3    2011-07-01    GBR           GBP  ...  0.03058  0.05218 -0.548777\n",
              "4    2011-07-01    CAN           CAD  ...  0.17968  0.20441 -0.333197\n",
              "..          ...    ...           ...  ...      ...      ...       ...\n",
              "807  2021-07-01    UKR           UAH  ... -0.00960 -0.24829  0.323436\n",
              "808  2021-07-01    ARE           AED  ...  0.21933 -0.07453  0.240578\n",
              "809  2021-07-01    USA           USD  ...  0.32250  0.00378  0.315852\n",
              "810  2021-07-01    URY           UYU  ...  0.83371  0.39178  0.642694\n",
              "811  2021-07-01    VNM           VND  ...  0.24518 -0.05491  0.365904\n",
              "\n",
              "[812 rows x 15 columns]"
            ]
          },
          "metadata": {},
          "execution_count": 27
        }
      ],
      "source": [
        "# Now we will add the residuals to our bmdf DataFrame for further analysis\n",
        "bmdf['residual']=model.resid\n",
        "bmdf"
      ]
    },
    {
      "cell_type": "code",
      "execution_count": 28,
      "metadata": {
        "colab": {
          "base_uri": "https://localhost:8080/",
          "height": 574
        },
        "id": "w1_jSd2iEzBn",
        "outputId": "a3c9831f-2d43-445a-e0ba-561ad872ae43"
      },
      "outputs": [
        {
          "output_type": "display_data",
          "data": {
            "image/png": "[encoded data removed]",
            "text/plain": [
              "<Figure size 432x288 with 1 Axes>"
            ]
          },
          "metadata": {
            "needs_background": "light"
          }
        },
        {
          "output_type": "display_data",
          "data": {
            "image/png": "[encoded data removed]",
            "text/plain": [
              "<Figure size 432x288 with 1 Axes>"
            ]
          },
          "metadata": {
            "needs_background": "light"
          }
        }
      ],
      "source": [
        "# 1.12 (3 pts.) \n",
        "# We would like to see how our independent variables relate to the residuals, fill out the function graphIndepVsResidual\n",
        "# to generate a scatter plot for each independent variable passed in where the residuals are on the y axis and the independent\n",
        "# variable is on the x axis. Make sure to include a title as well as labels for the x and y axis. \n",
        "# Make sure to display the plots below this cell\n",
        "# RETURN: Nothing, display a graph\n",
        "graphIndepVsResidual(bmdf, ['GDP_dollar', 'USD'], model)"
      ]
    },
    {
      "cell_type": "code",
      "execution_count": 29,
      "metadata": {
        "colab": {
          "base_uri": "https://localhost:8080/",
          "height": 295
        },
        "id": "vYn-tAlgEzBn",
        "outputId": "cc032675-c3ad-49ae-9fe2-1f459f4aac7d"
      },
      "outputs": [
        {
          "output_type": "display_data",
          "data": {
            "image/png": "[encoded data removed]",
            "text/plain": [
              "<Figure size 432x288 with 1 Axes>"
            ]
          },
          "metadata": {
            "needs_background": "light"
          }
        }
      ],
      "source": [
        "# 1.13 (5 pts.) \n",
        "# Fill in the function histOfResiduals to generate a histogram of the residuals and overlay a normal curve on top of this\n",
        "# histogram. Us norm.fit, np.linspace and norm.pdf to generate the data for a normal curve and make sure to set density=True \n",
        "# when plotting the histogram. Be sure to title your plot as well as label the x and y axis\n",
        "# Make sure to display the plot below this cell\n",
        "# RETURN: Nothing, display a graph\n",
        "histOfResiduals(bmdf)"
      ]
    },
    {
      "cell_type": "code",
      "execution_count": 30,
      "metadata": {
        "colab": {
          "base_uri": "https://localhost:8080/",
          "height": 279
        },
        "id": "xO_eCIcUEzBn",
        "outputId": "be97e4fc-6ae7-4c09-f5ac-3520e130fbc3"
      },
      "outputs": [
        {
          "output_type": "display_data",
          "data": {
            "image/png": "[encoded data removed]",
            "text/plain": [
              "<Figure size 432x288 with 1 Axes>"
            ]
          },
          "metadata": {
            "needs_background": "light"
          }
        }
      ],
      "source": [
        "# 1.14 (3 pts.) \n",
        "# Using the qqplot function imported from statsmodels graph the QQ Plot of the model residuals with a 45 degree line (you can\n",
        "# add such a line in the arguments of the qqplot function, make sure to set fit=True)\n",
        "# Make sure to display the plot below this cell\n",
        "# RETURN: Nothing, display a graph\n",
        "graphQQPlot(model)"
      ]
    },
    {
      "cell_type": "code",
      "execution_count": 31,
      "metadata": {
        "colab": {
          "base_uri": "https://localhost:8080/",
          "height": 295
        },
        "id": "YRgSgwBTEzBo",
        "outputId": "66ba1991-b8f5-435c-9ad7-752419fc0592"
      },
      "outputs": [
        {
          "output_type": "display_data",
          "data": {
            "image/png": "[encoded data removed]",
            "text/plain": [
              "<Figure size 432x288 with 1 Axes>"
            ]
          },
          "metadata": {
            "needs_background": "light"
          }
        }
      ],
      "source": [
        "# 1.15 (3 pts.) \n",
        "# Using the model, access the fitted values and residual values to fill in the graphFittedVsResidual which graphs a scatter\n",
        "# plot of fitted values on the x axis vs residual values on the y axis. Make sure to add a title and label the x and y axis\n",
        "# Make sure to display the plot below this cell\n",
        "# RETURN: Nothing, display a graph\n",
        "graphFittedVsResidual(model)"
      ]
    },
    {
      "cell_type": "code",
      "execution_count": 32,
      "metadata": {
        "colab": {
          "base_uri": "https://localhost:8080/"
        },
        "id": "-4BTYBjiEzBo",
        "outputId": "b70248ec-9d02-4e3e-d0ea-4c81cf45ed87"
      },
      "outputs": [
        {
          "output_type": "execute_result",
          "data": {
            "text/plain": [
              "8.640387229757986"
            ]
          },
          "metadata": {},
          "execution_count": 32
        }
      ],
      "source": [
        "# 1.16 (2 pts.) \n",
        "# Using the model.predict function to fill out the predictLinearRegression function that takes in the model, prints out the\n",
        "# data that you are predicting and the predicted value. \n",
        "# RETURN: Floating point predicted number\n",
        "predictLinearRegression(model, 1000, 2)"
      ]
    },
    {
      "cell_type": "markdown",
      "metadata": {
        "id": "ovC0ZiYEEzBo"
      },
      "source": [
        "## Logistic Regression - Part 2\n",
        "In this section we will be predicting whether a movie review from IMDB is positive or negative using logistic regression! The IMDB movie review dataset is a popular sentiment analysis dataset that is used in many parts of machine learning. To keep this assignment manageable, we have provided a subset of 6,000 movie reviews as well as their associated labels positive (1) and negative (0) in imdbReviews.csv. These labels were made and validated by humans so we accept them as a ground truth. "
      ]
    },
    {
      "cell_type": "code",
      "execution_count": 33,
      "metadata": {
        "colab": {
          "base_uri": "https://localhost:8080/"
        },
        "id": "ZWnljHcKEzBp",
        "outputId": "00eb2481-c725-4c83-cd16-7b4fa686a79e"
      },
      "outputs": [
        {
          "output_type": "stream",
          "name": "stdout",
          "text": [
            "[nltk_data] Downloading package punkt to /root/nltk_data...\n",
            "[nltk_data]   Unzipping tokenizers/punkt.zip.\n",
            "[nltk_data] Downloading package stopwords to /root/nltk_data...\n",
            "[nltk_data]   Unzipping corpora/stopwords.zip.\n"
          ]
        },
        {
          "output_type": "execute_result",
          "data": {
            "text/plain": [
              "True"
            ]
          },
          "metadata": {},
          "execution_count": 33
        }
      ],
      "source": [
        "# Download the corpus\n",
        "df = pd.read_csv('imdbReviews.csv')\n",
        "nltk.download('punkt')\n",
        "nltk.download('stopwords')"
      ]
    },
    {
      "cell_type": "code",
      "execution_count": 34,
      "metadata": {
        "colab": {
          "base_uri": "https://localhost:8080/"
        },
        "id": "-fx8MihZEzBp",
        "outputId": "4a69fa00-4828-43ab-8061-ea574bb5808a"
      },
      "outputs": [
        {
          "output_type": "stream",
          "name": "stdout",
          "text": [
            "Score: 1\n",
            "\n",
            "Text: Since musicals have both gone out of fashion and are incredibly expensive to make without all the talent needed to make one under contract to a studio, I doubt we will ever get a real life story of Enrico Caruso. <br /><br />But if everything else was in place it was no accident that no Hollywood studio attempted the task until Metro-Goldwyn-Mayer had Mario Lanza under contract. No one else could have done it, I doubt whether it will ever be tried again.<br /><br />And why should it. I think Enrico Caruso himself would have been satisfied as to how his singing was portrayed on screen. For his tenor voice was his life, his reason for being on the earth. <br /><br />To say that liberties were taken with his life is to be modest. Caruso, like the man who portrayed him, was a man of large appetites although with a lot more self discipline. He had numerous relationships with several women and fathered two out of wedlock sons who are not in this film. <br /><br />His contribution to the recording industry is treated as almost an afterthought. He's shown in a recording studio once late in his life. Actually he started recording right around the turn of the last century and together with Irish tenor John McCormack for RCA Victor made the recording industry what it became.<br /><br />When Caruso and McCormack were at their heights you had to practically inherit a ticket to see either of them perform live. But a lot of immigrant Italian and Irish families had a phonograph and a record or three of either of these men. It's why both became the legends that they are.<br /><br />What the film does have is some beautifully staged operatic arias done by Mario Lanza, a taste of what he might have become had he the discipline of a Caruso to stick to opera. The Great Caruso won an Oscar for sound recording and received nominations for costume and set design.<br /><br />Mario himself helped popularize the film with an RCA Red Seal album of songs from The Great Caruso. Unfortunately due to contractual obligations we couldn't get an actual cast album with Ann Blyth, Dorothy Kirsten, and Jarmila Novotna also.<br /><br />Though Blyth sang it in the film, Lanza had a big hit recording of The Loveliest Night of the Year further helping to popularize The Great Caruso.<br /><br />If you're looking for a life of Enrico Caruso, this ain't it. If you are looking for a great artist singing at the height of his career, than you should not miss The Great Caruso.\n"
          ]
        }
      ],
      "source": [
        "# This cell will give you a random row from our DataFrame, feel free to run it as many times as you like to get a feel for \n",
        "# what is generally labeled as negative and what is considered positive.\n",
        "sample = df.sample()\n",
        "print(f'Score: {sample[\"label\"].values[0]}\\n\\nText: {sample[\"text\"].values[0]}')\n"
      ]
    },
    {
      "cell_type": "code",
      "execution_count": 36,
      "metadata": {
        "colab": {
          "base_uri": "https://localhost:8080/",
          "height": 402
        },
        "id": "Z2BqqWk8EzBq",
        "outputId": "bd957bb4-faed-442f-c5ec-8d920f4d940c"
      },
      "outputs": [
        {
          "output_type": "execute_result",
          "data": {
            "text/html": [
              "\n",
              "  <div id=\"df-434296a1-a268-4a50-9525-e0980b4fc450\">\n",
              "    <div class=\"colab-df-container\">\n",
              "      <div>\n",
              "<style scoped>\n",
              "    .dataframe tbody tr th:only-of-type {\n",
              "        vertical-align: middle;\n",
              "    }\n",
              "\n",
              "    .dataframe tbody tr th {\n",
              "        vertical-align: top;\n",
              "    }\n",
              "\n",
              "    .dataframe thead th {\n",
              "        text-align: right;\n",
              "    }\n",
              "</style>\n",
              "<table border=\"1\" class=\"dataframe\">\n",
              "  <thead>\n",
              "    <tr style=\"text-align: right;\">\n",
              "      <th></th>\n",
              "      <th>text</th>\n",
              "      <th>label</th>\n",
              "    </tr>\n",
              "  </thead>\n",
              "  <tbody>\n",
              "    <tr>\n",
              "      <th>0</th>\n",
              "      <td>bromwell high is a cartoon comedy. it ran at t...</td>\n",
              "      <td>1</td>\n",
              "    </tr>\n",
              "    <tr>\n",
              "      <th>1</th>\n",
              "      <td>homelessness (or houselessness as george carli...</td>\n",
              "      <td>1</td>\n",
              "    </tr>\n",
              "    <tr>\n",
              "      <th>2</th>\n",
              "      <td>brilliant over-acting by lesley ann warren. be...</td>\n",
              "      <td>1</td>\n",
              "    </tr>\n",
              "    <tr>\n",
              "      <th>3</th>\n",
              "      <td>this is easily the most underrated film inn th...</td>\n",
              "      <td>1</td>\n",
              "    </tr>\n",
              "    <tr>\n",
              "      <th>4</th>\n",
              "      <td>this is not the typical mel brooks film. it wa...</td>\n",
              "      <td>1</td>\n",
              "    </tr>\n",
              "    <tr>\n",
              "      <th>...</th>\n",
              "      <td>...</td>\n",
              "      <td>...</td>\n",
              "    </tr>\n",
              "    <tr>\n",
              "      <th>5995</th>\n",
              "      <td>the movie is an extra-long tale of a classic n...</td>\n",
              "      <td>0</td>\n",
              "    </tr>\n",
              "    <tr>\n",
              "      <th>5996</th>\n",
              "      <td>the year 1934 was when shirley temple played t...</td>\n",
              "      <td>0</td>\n",
              "    </tr>\n",
              "    <tr>\n",
              "      <th>5997</th>\n",
              "      <td>having grown up in texas, and less than 15 mil...</td>\n",
              "      <td>0</td>\n",
              "    </tr>\n",
              "    <tr>\n",
              "      <th>5998</th>\n",
              "      <td>first, before reading further, you must unders...</td>\n",
              "      <td>0</td>\n",
              "    </tr>\n",
              "    <tr>\n",
              "      <th>5999</th>\n",
              "      <td>there is no way to describe how really, really...</td>\n",
              "      <td>0</td>\n",
              "    </tr>\n",
              "  </tbody>\n",
              "</table>\n",
              "<p>6000 rows × 2 columns</p>\n",
              "</div>\n",
              "      <button class=\"colab-df-convert\" onclick=\"convertToInteractive('df-434296a1-a268-4a50-9525-e0980b4fc450')\"\n",
              "              title=\"Convert this dataframe to an interactive table.\"\n",
              "              style=\"display:none;\">\n",
              "        \n",
              "  <svg xmlns=\"http://www.w3.org/2000/svg\" height=\"24px\"viewBox=\"0 0 24 24\"\n",
              "       width=\"24px\">\n",
              "    <path d=\"M0 0h24v24H0V0z\" fill=\"none\"/>\n",
              "    <path d=\"M18.56 5.44l.94 2.06.94-2.06 2.06-.94-2.06-.94-.94-2.06-.94 2.06-2.06.94zm-11 1L8.5 8.5l.94-2.06 2.06-.94-2.06-.94L8.5 2.5l-.94 2.06-2.06.94zm10 10l.94 2.06.94-2.06 2.06-.94-2.06-.94-.94-2.06-.94 2.06-2.06.94z\"/><path d=\"M17.41 7.96l-1.37-1.37c-.4-.4-.92-.59-1.43-.59-.52 0-1.04.2-1.43.59L10.3 9.45l-7.72 7.72c-.78.78-.78 2.05 0 2.83L4 21.41c.39.39.9.59 1.41.59.51 0 1.02-.2 1.41-.59l7.78-7.78 2.81-2.81c.8-.78.8-2.07 0-2.86zM5.41 20L4 18.59l7.72-7.72 1.47 1.35L5.41 20z\"/>\n",
              "  </svg>\n",
              "      </button>\n",
              "      \n",
              "  <style>\n",
              "    .colab-df-container {\n",
              "      display:flex;\n",
              "      flex-wrap:wrap;\n",
              "      gap: 12px;\n",
              "    }\n",
              "\n",
              "    .colab-df-convert {\n",
              "      background-color: #E8F0FE;\n",
              "      border: none;\n",
              "      border-radius: 50%;\n",
              "      cursor: pointer;\n",
              "      display: none;\n",
              "      fill: #1967D2;\n",
              "      height: 32px;\n",
              "      padding: 0 0 0 0;\n",
              "      width: 32px;\n",
              "    }\n",
              "\n",
              "    .colab-df-convert:hover {\n",
              "      background-color: #E2EBFA;\n",
              "      box-shadow: 0px 1px 2px rgba(60, 64, 67, 0.3), 0px 1px 3px 1px rgba(60, 64, 67, 0.15);\n",
              "      fill: #174EA6;\n",
              "    }\n",
              "\n",
              "    [theme=dark] .colab-df-convert {\n",
              "      background-color: #3B4455;\n",
              "      fill: #D2E3FC;\n",
              "    }\n",
              "\n",
              "    [theme=dark] .colab-df-convert:hover {\n",
              "      background-color: #434B5C;\n",
              "      box-shadow: 0px 1px 3px 1px rgba(0, 0, 0, 0.15);\n",
              "      filter: drop-shadow(0px 1px 2px rgba(0, 0, 0, 0.3));\n",
              "      fill: #FFFFFF;\n",
              "    }\n",
              "  </style>\n",
              "\n",
              "      <script>\n",
              "        const buttonEl =\n",
              "          document.querySelector('#df-434296a1-a268-4a50-9525-e0980b4fc450 button.colab-df-convert');\n",
              "        buttonEl.style.display =\n",
              "          google.colab.kernel.accessAllowed ? 'block' : 'none';\n",
              "\n",
              "        async function convertToInteractive(key) {\n",
              "          const element = document.querySelector('#df-434296a1-a268-4a50-9525-e0980b4fc450');\n",
              "          const dataTable =\n",
              "            await google.colab.kernel.invokeFunction('convertToInteractive',\n",
              "                                                     [key], {});\n",
              "          if (!dataTable) return;\n",
              "\n",
              "          const docLinkHtml = 'Like what you see? Visit the ' +\n",
              "            '<a target=\"_blank\" href=https://colab.research.google.com/notebooks/data_table.ipynb>data table notebook</a>'\n",
              "            + ' to learn more about interactive tables.';\n",
              "          element.innerHTML = '';\n",
              "          dataTable['output_type'] = 'display_data';\n",
              "          await google.colab.output.renderOutput(dataTable, element);\n",
              "          const docLink = document.createElement('div');\n",
              "          docLink.innerHTML = docLinkHtml;\n",
              "          element.appendChild(docLink);\n",
              "        }\n",
              "      </script>\n",
              "    </div>\n",
              "  </div>\n",
              "  "
            ],
            "text/plain": [
              "                                                   text  label\n",
              "0     bromwell high is a cartoon comedy. it ran at t...      1\n",
              "1     homelessness (or houselessness as george carli...      1\n",
              "2     brilliant over-acting by lesley ann warren. be...      1\n",
              "3     this is easily the most underrated film inn th...      1\n",
              "4     this is not the typical mel brooks film. it wa...      1\n",
              "...                                                 ...    ...\n",
              "5995  the movie is an extra-long tale of a classic n...      0\n",
              "5996  the year 1934 was when shirley temple played t...      0\n",
              "5997  having grown up in texas, and less than 15 mil...      0\n",
              "5998  first, before reading further, you must unders...      0\n",
              "5999  there is no way to describe how really, really...      0\n",
              "\n",
              "[6000 rows x 2 columns]"
            ]
          },
          "metadata": {},
          "execution_count": 36
        }
      ],
      "source": [
        "# 2.1 (3 pts.)\n",
        "# Now we need to edit the text so that it will be simpler for us to vectorize it and run logistic regression. The first\n",
        "# modification we will make is sending all of the text to lower case. Fill out the lowerCase function and return the\n",
        "# DataFrame with all of the text in lower case. (Hint: the map function in pandas may be helpful)\n",
        "# RETURN : the modified DataFrame, make all edits within the text column\n",
        "df = lowerCase(df)\n",
        "df"
      ]
    },
    {
      "cell_type": "code",
      "execution_count": 37,
      "metadata": {
        "colab": {
          "base_uri": "https://localhost:8080/",
          "height": 402
        },
        "id": "6McsCrFJEzBq",
        "outputId": "eb613833-3dce-4a7a-f596-1b3a4144211e"
      },
      "outputs": [
        {
          "output_type": "execute_result",
          "data": {
            "text/html": [
              "\n",
              "  <div id=\"df-68a47514-ea19-4f2f-8797-dcd3fa95e13a\">\n",
              "    <div class=\"colab-df-container\">\n",
              "      <div>\n",
              "<style scoped>\n",
              "    .dataframe tbody tr th:only-of-type {\n",
              "        vertical-align: middle;\n",
              "    }\n",
              "\n",
              "    .dataframe tbody tr th {\n",
              "        vertical-align: top;\n",
              "    }\n",
              "\n",
              "    .dataframe thead th {\n",
              "        text-align: right;\n",
              "    }\n",
              "</style>\n",
              "<table border=\"1\" class=\"dataframe\">\n",
              "  <thead>\n",
              "    <tr style=\"text-align: right;\">\n",
              "      <th></th>\n",
              "      <th>text</th>\n",
              "      <th>label</th>\n",
              "    </tr>\n",
              "  </thead>\n",
              "  <tbody>\n",
              "    <tr>\n",
              "      <th>0</th>\n",
              "      <td>[bromwell, high, is, a, cartoon, comedy, ., it...</td>\n",
              "      <td>1</td>\n",
              "    </tr>\n",
              "    <tr>\n",
              "      <th>1</th>\n",
              "      <td>[homelessness, (, or, houselessness, as, georg...</td>\n",
              "      <td>1</td>\n",
              "    </tr>\n",
              "    <tr>\n",
              "      <th>2</th>\n",
              "      <td>[brilliant, over-acting, by, lesley, ann, warr...</td>\n",
              "      <td>1</td>\n",
              "    </tr>\n",
              "    <tr>\n",
              "      <th>3</th>\n",
              "      <td>[this, is, easily, the, most, underrated, film...</td>\n",
              "      <td>1</td>\n",
              "    </tr>\n",
              "    <tr>\n",
              "      <th>4</th>\n",
              "      <td>[this, is, not, the, typical, mel, brooks, fil...</td>\n",
              "      <td>1</td>\n",
              "    </tr>\n",
              "    <tr>\n",
              "      <th>...</th>\n",
              "      <td>...</td>\n",
              "      <td>...</td>\n",
              "    </tr>\n",
              "    <tr>\n",
              "      <th>5995</th>\n",
              "      <td>[the, movie, is, an, extra-long, tale, of, a, ...</td>\n",
              "      <td>0</td>\n",
              "    </tr>\n",
              "    <tr>\n",
              "      <th>5996</th>\n",
              "      <td>[the, year, 1934, was, when, shirley, temple, ...</td>\n",
              "      <td>0</td>\n",
              "    </tr>\n",
              "    <tr>\n",
              "      <th>5997</th>\n",
              "      <td>[having, grown, up, in, texas, ,, and, less, t...</td>\n",
              "      <td>0</td>\n",
              "    </tr>\n",
              "    <tr>\n",
              "      <th>5998</th>\n",
              "      <td>[first, ,, before, reading, further, ,, you, m...</td>\n",
              "      <td>0</td>\n",
              "    </tr>\n",
              "    <tr>\n",
              "      <th>5999</th>\n",
              "      <td>[there, is, no, way, to, describe, how, really...</td>\n",
              "      <td>0</td>\n",
              "    </tr>\n",
              "  </tbody>\n",
              "</table>\n",
              "<p>6000 rows × 2 columns</p>\n",
              "</div>\n",
              "      <button class=\"colab-df-convert\" onclick=\"convertToInteractive('df-68a47514-ea19-4f2f-8797-dcd3fa95e13a')\"\n",
              "              title=\"Convert this dataframe to an interactive table.\"\n",
              "              style=\"display:none;\">\n",
              "        \n",
              "  <svg xmlns=\"http://www.w3.org/2000/svg\" height=\"24px\"viewBox=\"0 0 24 24\"\n",
              "       width=\"24px\">\n",
              "    <path d=\"M0 0h24v24H0V0z\" fill=\"none\"/>\n",
              "    <path d=\"M18.56 5.44l.94 2.06.94-2.06 2.06-.94-2.06-.94-.94-2.06-.94 2.06-2.06.94zm-11 1L8.5 8.5l.94-2.06 2.06-.94-2.06-.94L8.5 2.5l-.94 2.06-2.06.94zm10 10l.94 2.06.94-2.06 2.06-.94-2.06-.94-.94-2.06-.94 2.06-2.06.94z\"/><path d=\"M17.41 7.96l-1.37-1.37c-.4-.4-.92-.59-1.43-.59-.52 0-1.04.2-1.43.59L10.3 9.45l-7.72 7.72c-.78.78-.78 2.05 0 2.83L4 21.41c.39.39.9.59 1.41.59.51 0 1.02-.2 1.41-.59l7.78-7.78 2.81-2.81c.8-.78.8-2.07 0-2.86zM5.41 20L4 18.59l7.72-7.72 1.47 1.35L5.41 20z\"/>\n",
              "  </svg>\n",
              "      </button>\n",
              "      \n",
              "  <style>\n",
              "    .colab-df-container {\n",
              "      display:flex;\n",
              "      flex-wrap:wrap;\n",
              "      gap: 12px;\n",
              "    }\n",
              "\n",
              "    .colab-df-convert {\n",
              "      background-color: #E8F0FE;\n",
              "      border: none;\n",
              "      border-radius: 50%;\n",
              "      cursor: pointer;\n",
              "      display: none;\n",
              "      fill: #1967D2;\n",
              "      height: 32px;\n",
              "      padding: 0 0 0 0;\n",
              "      width: 32px;\n",
              "    }\n",
              "\n",
              "    .colab-df-convert:hover {\n",
              "      background-color: #E2EBFA;\n",
              "      box-shadow: 0px 1px 2px rgba(60, 64, 67, 0.3), 0px 1px 3px 1px rgba(60, 64, 67, 0.15);\n",
              "      fill: #174EA6;\n",
              "    }\n",
              "\n",
              "    [theme=dark] .colab-df-convert {\n",
              "      background-color: #3B4455;\n",
              "      fill: #D2E3FC;\n",
              "    }\n",
              "\n",
              "    [theme=dark] .colab-df-convert:hover {\n",
              "      background-color: #434B5C;\n",
              "      box-shadow: 0px 1px 3px 1px rgba(0, 0, 0, 0.15);\n",
              "      filter: drop-shadow(0px 1px 2px rgba(0, 0, 0, 0.3));\n",
              "      fill: #FFFFFF;\n",
              "    }\n",
              "  </style>\n",
              "\n",
              "      <script>\n",
              "        const buttonEl =\n",
              "          document.querySelector('#df-68a47514-ea19-4f2f-8797-dcd3fa95e13a button.colab-df-convert');\n",
              "        buttonEl.style.display =\n",
              "          google.colab.kernel.accessAllowed ? 'block' : 'none';\n",
              "\n",
              "        async function convertToInteractive(key) {\n",
              "          const element = document.querySelector('#df-68a47514-ea19-4f2f-8797-dcd3fa95e13a');\n",
              "          const dataTable =\n",
              "            await google.colab.kernel.invokeFunction('convertToInteractive',\n",
              "                                                     [key], {});\n",
              "          if (!dataTable) return;\n",
              "\n",
              "          const docLinkHtml = 'Like what you see? Visit the ' +\n",
              "            '<a target=\"_blank\" href=https://colab.research.google.com/notebooks/data_table.ipynb>data table notebook</a>'\n",
              "            + ' to learn more about interactive tables.';\n",
              "          element.innerHTML = '';\n",
              "          dataTable['output_type'] = 'display_data';\n",
              "          await google.colab.output.renderOutput(dataTable, element);\n",
              "          const docLink = document.createElement('div');\n",
              "          docLink.innerHTML = docLinkHtml;\n",
              "          element.appendChild(docLink);\n",
              "        }\n",
              "      </script>\n",
              "    </div>\n",
              "  </div>\n",
              "  "
            ],
            "text/plain": [
              "                                                   text  label\n",
              "0     [bromwell, high, is, a, cartoon, comedy, ., it...      1\n",
              "1     [homelessness, (, or, houselessness, as, georg...      1\n",
              "2     [brilliant, over-acting, by, lesley, ann, warr...      1\n",
              "3     [this, is, easily, the, most, underrated, film...      1\n",
              "4     [this, is, not, the, typical, mel, brooks, fil...      1\n",
              "...                                                 ...    ...\n",
              "5995  [the, movie, is, an, extra-long, tale, of, a, ...      0\n",
              "5996  [the, year, 1934, was, when, shirley, temple, ...      0\n",
              "5997  [having, grown, up, in, texas, ,, and, less, t...      0\n",
              "5998  [first, ,, before, reading, further, ,, you, m...      0\n",
              "5999  [there, is, no, way, to, describe, how, really...      0\n",
              "\n",
              "[6000 rows x 2 columns]"
            ]
          },
          "metadata": {},
          "execution_count": 37
        }
      ],
      "source": [
        "# 2.2 (3 pts.) \n",
        "# Next, we are going to tokenize our text so we can filter out unwanted pieces of the sentence. Fill out the tokenizeDF function\n",
        "# so that all of the text is tokenized using word_tokenize(). (Hint: the map function in pandas may be helpful)\n",
        "# RETURN : the modified DataFrame, make all edits within the text column\n",
        "df = tokenizeDF(df)\n",
        "df"
      ]
    },
    {
      "cell_type": "code",
      "execution_count": 38,
      "metadata": {
        "colab": {
          "base_uri": "https://localhost:8080/",
          "height": 402
        },
        "id": "XTM-fzVkEzBr",
        "outputId": "38d960da-01cb-4a4b-b13e-a5c3f365d1b6"
      },
      "outputs": [
        {
          "output_type": "execute_result",
          "data": {
            "text/html": [
              "\n",
              "  <div id=\"df-23930083-a8d0-4da9-9db7-c8404f052384\">\n",
              "    <div class=\"colab-df-container\">\n",
              "      <div>\n",
              "<style scoped>\n",
              "    .dataframe tbody tr th:only-of-type {\n",
              "        vertical-align: middle;\n",
              "    }\n",
              "\n",
              "    .dataframe tbody tr th {\n",
              "        vertical-align: top;\n",
              "    }\n",
              "\n",
              "    .dataframe thead th {\n",
              "        text-align: right;\n",
              "    }\n",
              "</style>\n",
              "<table border=\"1\" class=\"dataframe\">\n",
              "  <thead>\n",
              "    <tr style=\"text-align: right;\">\n",
              "      <th></th>\n",
              "      <th>text</th>\n",
              "      <th>label</th>\n",
              "    </tr>\n",
              "  </thead>\n",
              "  <tbody>\n",
              "    <tr>\n",
              "      <th>0</th>\n",
              "      <td>[bromwell, high, cartoon, comedy, ., ran, time...</td>\n",
              "      <td>1</td>\n",
              "    </tr>\n",
              "    <tr>\n",
              "      <th>1</th>\n",
              "      <td>[homelessness, (, houselessness, george, carli...</td>\n",
              "      <td>1</td>\n",
              "    </tr>\n",
              "    <tr>\n",
              "      <th>2</th>\n",
              "      <td>[brilliant, over-acting, lesley, ann, warren, ...</td>\n",
              "      <td>1</td>\n",
              "    </tr>\n",
              "    <tr>\n",
              "      <th>3</th>\n",
              "      <td>[easily, underrated, film, inn, brooks, cannon...</td>\n",
              "      <td>1</td>\n",
              "    </tr>\n",
              "    <tr>\n",
              "      <th>4</th>\n",
              "      <td>[typical, mel, brooks, film, ., much, less, sl...</td>\n",
              "      <td>1</td>\n",
              "    </tr>\n",
              "    <tr>\n",
              "      <th>...</th>\n",
              "      <td>...</td>\n",
              "      <td>...</td>\n",
              "    </tr>\n",
              "    <tr>\n",
              "      <th>5995</th>\n",
              "      <td>[movie, extra-long, tale, classic, novel, comp...</td>\n",
              "      <td>0</td>\n",
              "    </tr>\n",
              "    <tr>\n",
              "      <th>5996</th>\n",
              "      <td>[year, 1934, shirley, temple, played, three, m...</td>\n",
              "      <td>0</td>\n",
              "    </tr>\n",
              "    <tr>\n",
              "      <th>5997</th>\n",
              "      <td>[grown, texas, ,, less, 15, miles, used, gille...</td>\n",
              "      <td>0</td>\n",
              "    </tr>\n",
              "    <tr>\n",
              "      <th>5998</th>\n",
              "      <td>[first, ,, reading, ,, must, understand, 'm, n...</td>\n",
              "      <td>0</td>\n",
              "    </tr>\n",
              "    <tr>\n",
              "      <th>5999</th>\n",
              "      <td>[way, describe, really, ,, really, ,, really, ...</td>\n",
              "      <td>0</td>\n",
              "    </tr>\n",
              "  </tbody>\n",
              "</table>\n",
              "<p>6000 rows × 2 columns</p>\n",
              "</div>\n",
              "      <button class=\"colab-df-convert\" onclick=\"convertToInteractive('df-23930083-a8d0-4da9-9db7-c8404f052384')\"\n",
              "              title=\"Convert this dataframe to an interactive table.\"\n",
              "              style=\"display:none;\">\n",
              "        \n",
              "  <svg xmlns=\"http://www.w3.org/2000/svg\" height=\"24px\"viewBox=\"0 0 24 24\"\n",
              "       width=\"24px\">\n",
              "    <path d=\"M0 0h24v24H0V0z\" fill=\"none\"/>\n",
              "    <path d=\"M18.56 5.44l.94 2.06.94-2.06 2.06-.94-2.06-.94-.94-2.06-.94 2.06-2.06.94zm-11 1L8.5 8.5l.94-2.06 2.06-.94-2.06-.94L8.5 2.5l-.94 2.06-2.06.94zm10 10l.94 2.06.94-2.06 2.06-.94-2.06-.94-.94-2.06-.94 2.06-2.06.94z\"/><path d=\"M17.41 7.96l-1.37-1.37c-.4-.4-.92-.59-1.43-.59-.52 0-1.04.2-1.43.59L10.3 9.45l-7.72 7.72c-.78.78-.78 2.05 0 2.83L4 21.41c.39.39.9.59 1.41.59.51 0 1.02-.2 1.41-.59l7.78-7.78 2.81-2.81c.8-.78.8-2.07 0-2.86zM5.41 20L4 18.59l7.72-7.72 1.47 1.35L5.41 20z\"/>\n",
              "  </svg>\n",
              "      </button>\n",
              "      \n",
              "  <style>\n",
              "    .colab-df-container {\n",
              "      display:flex;\n",
              "      flex-wrap:wrap;\n",
              "      gap: 12px;\n",
              "    }\n",
              "\n",
              "    .colab-df-convert {\n",
              "      background-color: #E8F0FE;\n",
              "      border: none;\n",
              "      border-radius: 50%;\n",
              "      cursor: pointer;\n",
              "      display: none;\n",
              "      fill: #1967D2;\n",
              "      height: 32px;\n",
              "      padding: 0 0 0 0;\n",
              "      width: 32px;\n",
              "    }\n",
              "\n",
              "    .colab-df-convert:hover {\n",
              "      background-color: #E2EBFA;\n",
              "      box-shadow: 0px 1px 2px rgba(60, 64, 67, 0.3), 0px 1px 3px 1px rgba(60, 64, 67, 0.15);\n",
              "      fill: #174EA6;\n",
              "    }\n",
              "\n",
              "    [theme=dark] .colab-df-convert {\n",
              "      background-color: #3B4455;\n",
              "      fill: #D2E3FC;\n",
              "    }\n",
              "\n",
              "    [theme=dark] .colab-df-convert:hover {\n",
              "      background-color: #434B5C;\n",
              "      box-shadow: 0px 1px 3px 1px rgba(0, 0, 0, 0.15);\n",
              "      filter: drop-shadow(0px 1px 2px rgba(0, 0, 0, 0.3));\n",
              "      fill: #FFFFFF;\n",
              "    }\n",
              "  </style>\n",
              "\n",
              "      <script>\n",
              "        const buttonEl =\n",
              "          document.querySelector('#df-23930083-a8d0-4da9-9db7-c8404f052384 button.colab-df-convert');\n",
              "        buttonEl.style.display =\n",
              "          google.colab.kernel.accessAllowed ? 'block' : 'none';\n",
              "\n",
              "        async function convertToInteractive(key) {\n",
              "          const element = document.querySelector('#df-23930083-a8d0-4da9-9db7-c8404f052384');\n",
              "          const dataTable =\n",
              "            await google.colab.kernel.invokeFunction('convertToInteractive',\n",
              "                                                     [key], {});\n",
              "          if (!dataTable) return;\n",
              "\n",
              "          const docLinkHtml = 'Like what you see? Visit the ' +\n",
              "            '<a target=\"_blank\" href=https://colab.research.google.com/notebooks/data_table.ipynb>data table notebook</a>'\n",
              "            + ' to learn more about interactive tables.';\n",
              "          element.innerHTML = '';\n",
              "          dataTable['output_type'] = 'display_data';\n",
              "          await google.colab.output.renderOutput(dataTable, element);\n",
              "          const docLink = document.createElement('div');\n",
              "          docLink.innerHTML = docLinkHtml;\n",
              "          element.appendChild(docLink);\n",
              "        }\n",
              "      </script>\n",
              "    </div>\n",
              "  </div>\n",
              "  "
            ],
            "text/plain": [
              "                                                   text  label\n",
              "0     [bromwell, high, cartoon, comedy, ., ran, time...      1\n",
              "1     [homelessness, (, houselessness, george, carli...      1\n",
              "2     [brilliant, over-acting, lesley, ann, warren, ...      1\n",
              "3     [easily, underrated, film, inn, brooks, cannon...      1\n",
              "4     [typical, mel, brooks, film, ., much, less, sl...      1\n",
              "...                                                 ...    ...\n",
              "5995  [movie, extra-long, tale, classic, novel, comp...      0\n",
              "5996  [year, 1934, shirley, temple, played, three, m...      0\n",
              "5997  [grown, texas, ,, less, 15, miles, used, gille...      0\n",
              "5998  [first, ,, reading, ,, must, understand, 'm, n...      0\n",
              "5999  [way, describe, really, ,, really, ,, really, ...      0\n",
              "\n",
              "[6000 rows x 2 columns]"
            ]
          },
          "metadata": {},
          "execution_count": 38
        }
      ],
      "source": [
        "# 2.3 (4 pts.) \n",
        "# Now, we are going to filter through the tokenized text and in each row removing all of the stop words.\n",
        "# Fill out the removeStop function to do this and return the modified DataFrame. We also pass in a set of stop words\n",
        "# in english.\n",
        "# RETURN : the modified DataFrame, make all edits within the text column\n",
        "stopeng = set(stopwords.words('english'))\n",
        "df = removeStop(df, stopeng)\n",
        "df"
      ]
    },
    {
      "cell_type": "code",
      "execution_count": 39,
      "metadata": {
        "colab": {
          "base_uri": "https://localhost:8080/",
          "height": 402
        },
        "id": "f33vHwIDEzBr",
        "outputId": "123e25e2-8558-418d-fef4-f4898968601a"
      },
      "outputs": [
        {
          "output_type": "execute_result",
          "data": {
            "text/html": [
              "\n",
              "  <div id=\"df-3fe503d2-01ec-4588-9bc7-6b26da9a65e0\">\n",
              "    <div class=\"colab-df-container\">\n",
              "      <div>\n",
              "<style scoped>\n",
              "    .dataframe tbody tr th:only-of-type {\n",
              "        vertical-align: middle;\n",
              "    }\n",
              "\n",
              "    .dataframe tbody tr th {\n",
              "        vertical-align: top;\n",
              "    }\n",
              "\n",
              "    .dataframe thead th {\n",
              "        text-align: right;\n",
              "    }\n",
              "</style>\n",
              "<table border=\"1\" class=\"dataframe\">\n",
              "  <thead>\n",
              "    <tr style=\"text-align: right;\">\n",
              "      <th></th>\n",
              "      <th>text</th>\n",
              "      <th>label</th>\n",
              "    </tr>\n",
              "  </thead>\n",
              "  <tbody>\n",
              "    <tr>\n",
              "      <th>0</th>\n",
              "      <td>[bromwell, high, cartoon, comedy, ran, time, p...</td>\n",
              "      <td>1</td>\n",
              "    </tr>\n",
              "    <tr>\n",
              "      <th>1</th>\n",
              "      <td>[homelessness, houselessness, george, carlin, ...</td>\n",
              "      <td>1</td>\n",
              "    </tr>\n",
              "    <tr>\n",
              "      <th>2</th>\n",
              "      <td>[brilliant, over-acting, lesley, ann, warren, ...</td>\n",
              "      <td>1</td>\n",
              "    </tr>\n",
              "    <tr>\n",
              "      <th>3</th>\n",
              "      <td>[easily, underrated, film, inn, brooks, cannon...</td>\n",
              "      <td>1</td>\n",
              "    </tr>\n",
              "    <tr>\n",
              "      <th>4</th>\n",
              "      <td>[typical, mel, brooks, film, much, less, slaps...</td>\n",
              "      <td>1</td>\n",
              "    </tr>\n",
              "    <tr>\n",
              "      <th>...</th>\n",
              "      <td>...</td>\n",
              "      <td>...</td>\n",
              "    </tr>\n",
              "    <tr>\n",
              "      <th>5995</th>\n",
              "      <td>[movie, extra-long, tale, classic, novel, comp...</td>\n",
              "      <td>0</td>\n",
              "    </tr>\n",
              "    <tr>\n",
              "      <th>5996</th>\n",
              "      <td>[year, shirley, temple, played, three, major, ...</td>\n",
              "      <td>0</td>\n",
              "    </tr>\n",
              "    <tr>\n",
              "      <th>5997</th>\n",
              "      <td>[grown, texas, less, miles, used, gilley, 's, ...</td>\n",
              "      <td>0</td>\n",
              "    </tr>\n",
              "    <tr>\n",
              "      <th>5998</th>\n",
              "      <td>[first, reading, must, understand, 'm, neo-naz...</td>\n",
              "      <td>0</td>\n",
              "    </tr>\n",
              "    <tr>\n",
              "      <th>5999</th>\n",
              "      <td>[way, describe, really, really, really, bad, m...</td>\n",
              "      <td>0</td>\n",
              "    </tr>\n",
              "  </tbody>\n",
              "</table>\n",
              "<p>6000 rows × 2 columns</p>\n",
              "</div>\n",
              "      <button class=\"colab-df-convert\" onclick=\"convertToInteractive('df-3fe503d2-01ec-4588-9bc7-6b26da9a65e0')\"\n",
              "              title=\"Convert this dataframe to an interactive table.\"\n",
              "              style=\"display:none;\">\n",
              "        \n",
              "  <svg xmlns=\"http://www.w3.org/2000/svg\" height=\"24px\"viewBox=\"0 0 24 24\"\n",
              "       width=\"24px\">\n",
              "    <path d=\"M0 0h24v24H0V0z\" fill=\"none\"/>\n",
              "    <path d=\"M18.56 5.44l.94 2.06.94-2.06 2.06-.94-2.06-.94-.94-2.06-.94 2.06-2.06.94zm-11 1L8.5 8.5l.94-2.06 2.06-.94-2.06-.94L8.5 2.5l-.94 2.06-2.06.94zm10 10l.94 2.06.94-2.06 2.06-.94-2.06-.94-.94-2.06-.94 2.06-2.06.94z\"/><path d=\"M17.41 7.96l-1.37-1.37c-.4-.4-.92-.59-1.43-.59-.52 0-1.04.2-1.43.59L10.3 9.45l-7.72 7.72c-.78.78-.78 2.05 0 2.83L4 21.41c.39.39.9.59 1.41.59.51 0 1.02-.2 1.41-.59l7.78-7.78 2.81-2.81c.8-.78.8-2.07 0-2.86zM5.41 20L4 18.59l7.72-7.72 1.47 1.35L5.41 20z\"/>\n",
              "  </svg>\n",
              "      </button>\n",
              "      \n",
              "  <style>\n",
              "    .colab-df-container {\n",
              "      display:flex;\n",
              "      flex-wrap:wrap;\n",
              "      gap: 12px;\n",
              "    }\n",
              "\n",
              "    .colab-df-convert {\n",
              "      background-color: #E8F0FE;\n",
              "      border: none;\n",
              "      border-radius: 50%;\n",
              "      cursor: pointer;\n",
              "      display: none;\n",
              "      fill: #1967D2;\n",
              "      height: 32px;\n",
              "      padding: 0 0 0 0;\n",
              "      width: 32px;\n",
              "    }\n",
              "\n",
              "    .colab-df-convert:hover {\n",
              "      background-color: #E2EBFA;\n",
              "      box-shadow: 0px 1px 2px rgba(60, 64, 67, 0.3), 0px 1px 3px 1px rgba(60, 64, 67, 0.15);\n",
              "      fill: #174EA6;\n",
              "    }\n",
              "\n",
              "    [theme=dark] .colab-df-convert {\n",
              "      background-color: #3B4455;\n",
              "      fill: #D2E3FC;\n",
              "    }\n",
              "\n",
              "    [theme=dark] .colab-df-convert:hover {\n",
              "      background-color: #434B5C;\n",
              "      box-shadow: 0px 1px 3px 1px rgba(0, 0, 0, 0.15);\n",
              "      filter: drop-shadow(0px 1px 2px rgba(0, 0, 0, 0.3));\n",
              "      fill: #FFFFFF;\n",
              "    }\n",
              "  </style>\n",
              "\n",
              "      <script>\n",
              "        const buttonEl =\n",
              "          document.querySelector('#df-3fe503d2-01ec-4588-9bc7-6b26da9a65e0 button.colab-df-convert');\n",
              "        buttonEl.style.display =\n",
              "          google.colab.kernel.accessAllowed ? 'block' : 'none';\n",
              "\n",
              "        async function convertToInteractive(key) {\n",
              "          const element = document.querySelector('#df-3fe503d2-01ec-4588-9bc7-6b26da9a65e0');\n",
              "          const dataTable =\n",
              "            await google.colab.kernel.invokeFunction('convertToInteractive',\n",
              "                                                     [key], {});\n",
              "          if (!dataTable) return;\n",
              "\n",
              "          const docLinkHtml = 'Like what you see? Visit the ' +\n",
              "            '<a target=\"_blank\" href=https://colab.research.google.com/notebooks/data_table.ipynb>data table notebook</a>'\n",
              "            + ' to learn more about interactive tables.';\n",
              "          element.innerHTML = '';\n",
              "          dataTable['output_type'] = 'display_data';\n",
              "          await google.colab.output.renderOutput(dataTable, element);\n",
              "          const docLink = document.createElement('div');\n",
              "          docLink.innerHTML = docLinkHtml;\n",
              "          element.appendChild(docLink);\n",
              "        }\n",
              "      </script>\n",
              "    </div>\n",
              "  </div>\n",
              "  "
            ],
            "text/plain": [
              "                                                   text  label\n",
              "0     [bromwell, high, cartoon, comedy, ran, time, p...      1\n",
              "1     [homelessness, houselessness, george, carlin, ...      1\n",
              "2     [brilliant, over-acting, lesley, ann, warren, ...      1\n",
              "3     [easily, underrated, film, inn, brooks, cannon...      1\n",
              "4     [typical, mel, brooks, film, much, less, slaps...      1\n",
              "...                                                 ...    ...\n",
              "5995  [movie, extra-long, tale, classic, novel, comp...      0\n",
              "5996  [year, shirley, temple, played, three, major, ...      0\n",
              "5997  [grown, texas, less, miles, used, gilley, 's, ...      0\n",
              "5998  [first, reading, must, understand, 'm, neo-naz...      0\n",
              "5999  [way, describe, really, really, really, bad, m...      0\n",
              "\n",
              "[6000 rows x 2 columns]"
            ]
          },
          "metadata": {},
          "execution_count": 39
        }
      ],
      "source": [
        "# 2.4 (4 pts.) \n",
        "# Now, we are going to filter through the tokenized text and in each row only keeping words that have any\n",
        "# alphabetic characters in them, and removing any tokens that are of size 0 or 1.\n",
        "# Fill out the removeStopKeepAlpha function to do this and return the modified DataFrame. We also pass in a set of stop words\n",
        "# in english.\n",
        "# RETURN : the modified DataFrame, make all edits within the text column\n",
        "df = keepAlpha(df)\n",
        "df"
      ]
    },
    {
      "cell_type": "code",
      "execution_count": 40,
      "metadata": {
        "colab": {
          "base_uri": "https://localhost:8080/",
          "height": 402
        },
        "id": "Wrbu2ewhEzBr",
        "outputId": "4d6071fc-1e24-4dd2-a81c-7576e32059be"
      },
      "outputs": [
        {
          "output_type": "execute_result",
          "data": {
            "text/html": [
              "\n",
              "  <div id=\"df-54b5e4ad-d458-463c-bc27-0b4617a7a518\">\n",
              "    <div class=\"colab-df-container\">\n",
              "      <div>\n",
              "<style scoped>\n",
              "    .dataframe tbody tr th:only-of-type {\n",
              "        vertical-align: middle;\n",
              "    }\n",
              "\n",
              "    .dataframe tbody tr th {\n",
              "        vertical-align: top;\n",
              "    }\n",
              "\n",
              "    .dataframe thead th {\n",
              "        text-align: right;\n",
              "    }\n",
              "</style>\n",
              "<table border=\"1\" class=\"dataframe\">\n",
              "  <thead>\n",
              "    <tr style=\"text-align: right;\">\n",
              "      <th></th>\n",
              "      <th>text</th>\n",
              "      <th>label</th>\n",
              "    </tr>\n",
              "  </thead>\n",
              "  <tbody>\n",
              "    <tr>\n",
              "      <th>0</th>\n",
              "      <td>bromwell high cartoon comedy ran time programs...</td>\n",
              "      <td>1</td>\n",
              "    </tr>\n",
              "    <tr>\n",
              "      <th>1</th>\n",
              "      <td>homelessness houselessness george carlin state...</td>\n",
              "      <td>1</td>\n",
              "    </tr>\n",
              "    <tr>\n",
              "      <th>2</th>\n",
              "      <td>brilliant over-acting lesley ann warren best d...</td>\n",
              "      <td>1</td>\n",
              "    </tr>\n",
              "    <tr>\n",
              "      <th>3</th>\n",
              "      <td>easily underrated film inn brooks cannon sure ...</td>\n",
              "      <td>1</td>\n",
              "    </tr>\n",
              "    <tr>\n",
              "      <th>4</th>\n",
              "      <td>typical mel brooks film much less slapstick mo...</td>\n",
              "      <td>1</td>\n",
              "    </tr>\n",
              "    <tr>\n",
              "      <th>...</th>\n",
              "      <td>...</td>\n",
              "      <td>...</td>\n",
              "    </tr>\n",
              "    <tr>\n",
              "      <th>5995</th>\n",
              "      <td>movie extra-long tale classic novel completely...</td>\n",
              "      <td>0</td>\n",
              "    </tr>\n",
              "    <tr>\n",
              "      <th>5996</th>\n",
              "      <td>year shirley temple played three major movies ...</td>\n",
              "      <td>0</td>\n",
              "    </tr>\n",
              "    <tr>\n",
              "      <th>5997</th>\n",
              "      <td>grown texas less miles used gilley 's tell mov...</td>\n",
              "      <td>0</td>\n",
              "    </tr>\n",
              "    <tr>\n",
              "      <th>5998</th>\n",
              "      <td>first reading must understand 'm neo-nazi 'm t...</td>\n",
              "      <td>0</td>\n",
              "    </tr>\n",
              "    <tr>\n",
              "      <th>5999</th>\n",
              "      <td>way describe really really really bad movie 's...</td>\n",
              "      <td>0</td>\n",
              "    </tr>\n",
              "  </tbody>\n",
              "</table>\n",
              "<p>6000 rows × 2 columns</p>\n",
              "</div>\n",
              "      <button class=\"colab-df-convert\" onclick=\"convertToInteractive('df-54b5e4ad-d458-463c-bc27-0b4617a7a518')\"\n",
              "              title=\"Convert this dataframe to an interactive table.\"\n",
              "              style=\"display:none;\">\n",
              "        \n",
              "  <svg xmlns=\"http://www.w3.org/2000/svg\" height=\"24px\"viewBox=\"0 0 24 24\"\n",
              "       width=\"24px\">\n",
              "    <path d=\"M0 0h24v24H0V0z\" fill=\"none\"/>\n",
              "    <path d=\"M18.56 5.44l.94 2.06.94-2.06 2.06-.94-2.06-.94-.94-2.06-.94 2.06-2.06.94zm-11 1L8.5 8.5l.94-2.06 2.06-.94-2.06-.94L8.5 2.5l-.94 2.06-2.06.94zm10 10l.94 2.06.94-2.06 2.06-.94-2.06-.94-.94-2.06-.94 2.06-2.06.94z\"/><path d=\"M17.41 7.96l-1.37-1.37c-.4-.4-.92-.59-1.43-.59-.52 0-1.04.2-1.43.59L10.3 9.45l-7.72 7.72c-.78.78-.78 2.05 0 2.83L4 21.41c.39.39.9.59 1.41.59.51 0 1.02-.2 1.41-.59l7.78-7.78 2.81-2.81c.8-.78.8-2.07 0-2.86zM5.41 20L4 18.59l7.72-7.72 1.47 1.35L5.41 20z\"/>\n",
              "  </svg>\n",
              "      </button>\n",
              "      \n",
              "  <style>\n",
              "    .colab-df-container {\n",
              "      display:flex;\n",
              "      flex-wrap:wrap;\n",
              "      gap: 12px;\n",
              "    }\n",
              "\n",
              "    .colab-df-convert {\n",
              "      background-color: #E8F0FE;\n",
              "      border: none;\n",
              "      border-radius: 50%;\n",
              "      cursor: pointer;\n",
              "      display: none;\n",
              "      fill: #1967D2;\n",
              "      height: 32px;\n",
              "      padding: 0 0 0 0;\n",
              "      width: 32px;\n",
              "    }\n",
              "\n",
              "    .colab-df-convert:hover {\n",
              "      background-color: #E2EBFA;\n",
              "      box-shadow: 0px 1px 2px rgba(60, 64, 67, 0.3), 0px 1px 3px 1px rgba(60, 64, 67, 0.15);\n",
              "      fill: #174EA6;\n",
              "    }\n",
              "\n",
              "    [theme=dark] .colab-df-convert {\n",
              "      background-color: #3B4455;\n",
              "      fill: #D2E3FC;\n",
              "    }\n",
              "\n",
              "    [theme=dark] .colab-df-convert:hover {\n",
              "      background-color: #434B5C;\n",
              "      box-shadow: 0px 1px 3px 1px rgba(0, 0, 0, 0.15);\n",
              "      filter: drop-shadow(0px 1px 2px rgba(0, 0, 0, 0.3));\n",
              "      fill: #FFFFFF;\n",
              "    }\n",
              "  </style>\n",
              "\n",
              "      <script>\n",
              "        const buttonEl =\n",
              "          document.querySelector('#df-54b5e4ad-d458-463c-bc27-0b4617a7a518 button.colab-df-convert');\n",
              "        buttonEl.style.display =\n",
              "          google.colab.kernel.accessAllowed ? 'block' : 'none';\n",
              "\n",
              "        async function convertToInteractive(key) {\n",
              "          const element = document.querySelector('#df-54b5e4ad-d458-463c-bc27-0b4617a7a518');\n",
              "          const dataTable =\n",
              "            await google.colab.kernel.invokeFunction('convertToInteractive',\n",
              "                                                     [key], {});\n",
              "          if (!dataTable) return;\n",
              "\n",
              "          const docLinkHtml = 'Like what you see? Visit the ' +\n",
              "            '<a target=\"_blank\" href=https://colab.research.google.com/notebooks/data_table.ipynb>data table notebook</a>'\n",
              "            + ' to learn more about interactive tables.';\n",
              "          element.innerHTML = '';\n",
              "          dataTable['output_type'] = 'display_data';\n",
              "          await google.colab.output.renderOutput(dataTable, element);\n",
              "          const docLink = document.createElement('div');\n",
              "          docLink.innerHTML = docLinkHtml;\n",
              "          element.appendChild(docLink);\n",
              "        }\n",
              "      </script>\n",
              "    </div>\n",
              "  </div>\n",
              "  "
            ],
            "text/plain": [
              "                                                   text  label\n",
              "0     bromwell high cartoon comedy ran time programs...      1\n",
              "1     homelessness houselessness george carlin state...      1\n",
              "2     brilliant over-acting lesley ann warren best d...      1\n",
              "3     easily underrated film inn brooks cannon sure ...      1\n",
              "4     typical mel brooks film much less slapstick mo...      1\n",
              "...                                                 ...    ...\n",
              "5995  movie extra-long tale classic novel completely...      0\n",
              "5996  year shirley temple played three major movies ...      0\n",
              "5997  grown texas less miles used gilley 's tell mov...      0\n",
              "5998  first reading must understand 'm neo-nazi 'm t...      0\n",
              "5999  way describe really really really bad movie 's...      0\n",
              "\n",
              "[6000 rows x 2 columns]"
            ]
          },
          "metadata": {},
          "execution_count": 40
        }
      ],
      "source": [
        "# 2.5 (3 pts.) \n",
        "# Lastly, we will join all of the tokenized words per row back into single strings. Fill out the joinText function to join\n",
        "# your tokenized words together and return the new DataFrame\n",
        "# RETURN : the modified DataFrame, make all edits within the text column \n",
        "df = joinText(df)\n",
        "df"
      ]
    },
    {
      "cell_type": "code",
      "execution_count": 41,
      "metadata": {
        "colab": {
          "base_uri": "https://localhost:8080/"
        },
        "id": "9-8A88nmEzBr",
        "outputId": "b24552e0-946c-4f5c-bb81-b6dc3765f7a0"
      },
      "outputs": [
        {
          "output_type": "stream",
          "name": "stdout",
          "text": [
            "[[0 0 0 ... 0 0 0]\n",
            " [0 0 0 ... 0 0 0]\n",
            " [0 0 0 ... 0 0 0]\n",
            " ...\n",
            " [0 0 0 ... 0 0 0]\n",
            " [0 0 0 ... 0 0 0]\n",
            " [0 0 0 ... 0 0 0]]\n",
            "[1 1 1 ... 0 0 0]\n"
          ]
        }
      ],
      "source": [
        "# 2.6 (4 pts.)\n",
        "# We need to vectorize our new text so that we can use it as input for the logistic regression. Fill in the function\n",
        "# countVectorize to turn our DataFrame df into a matrix X which has the shape (num of examples, vocabulary size) and array\n",
        "# y which has the shape (num of examples). Use the CountVectorizer method to achieve this.\n",
        "# RETURN: X, y, and vectorizer\n",
        "X, y, vectorizer = countVectorize(df)\n",
        "print(X)\n",
        "print(y)"
      ]
    },
    {
      "cell_type": "code",
      "execution_count": 42,
      "metadata": {
        "colab": {
          "base_uri": "https://localhost:8080/"
        },
        "id": "a5bb3OgyEzBs",
        "outputId": "68f7dc88-4553-48d5-9318-93c6a0cd447e"
      },
      "outputs": [
        {
          "output_type": "stream",
          "name": "stdout",
          "text": [
            "XTrain length: 4500, XTest length: 1500, YTrain length: 4500, YTest length: 1500\n"
          ]
        }
      ],
      "source": [
        "# 2.7 (3 pts.) \n",
        "# Fill in the function splitData using the train_test_split function to get a test size of .25 and set the random state to 42.\n",
        "X_train, X_test, y_train, y_test = splitData(X, y)\n",
        "print(f'XTrain length: {len(X_train)}, XTest length: {len(X_test)}, YTrain length: {len(y_train)}, YTest length: {len(y_test)}')"
      ]
    },
    {
      "cell_type": "code",
      "execution_count": 43,
      "metadata": {
        "id": "k5JiYgUlEzBs"
      },
      "outputs": [],
      "source": [
        "# Here we make sure our variables are all of the correct type.\n",
        "y_test = y_test.astype(int)\n",
        "y_train = y_train.astype(int)\n",
        "\n",
        "X_test = X_test.astype(int)\n",
        "X_train = X_train.astype(int)"
      ]
    },
    {
      "cell_type": "code",
      "execution_count": 44,
      "metadata": {
        "colab": {
          "base_uri": "https://localhost:8080/"
        },
        "id": "a6VO_LFNEzBs",
        "outputId": "9b051b36-5456-4615-934c-3bc645aa9ee2"
      },
      "outputs": [
        {
          "output_type": "stream",
          "name": "stderr",
          "text": [
            "/usr/local/lib/python3.7/dist-packages/sklearn/linear_model/_logistic.py:818: ConvergenceWarning: lbfgs failed to converge (status=1):\n",
            "STOP: TOTAL NO. of ITERATIONS REACHED LIMIT.\n",
            "\n",
            "Increase the number of iterations (max_iter) or scale the data as shown in:\n",
            "    https://scikit-learn.org/stable/modules/preprocessing.html\n",
            "Please also refer to the documentation for alternative solver options:\n",
            "    https://scikit-learn.org/stable/modules/linear_model.html#logistic-regression\n",
            "  extra_warning_msg=_LOGISTIC_SOLVER_CONVERGENCE_MSG,\n"
          ]
        },
        {
          "output_type": "stream",
          "name": "stdout",
          "text": [
            "0.8773333333333333\n"
          ]
        }
      ],
      "source": [
        "# 2.8 (4 pts.) \n",
        "# Fill in the function trainLogisticRegression by creating a LogisticRegression object with a random state of 42 and then\n",
        "# fitting that object to X_train and y_train. Then return the score when we try to predict on our test set. If you get a \n",
        "# convergence warning it's fine, we could modify some hyperparameters here however its generally not neccessary for our simple\n",
        "# task.\n",
        "# RETURN: the model (clf), the accuracy as a decimal number for example 0.633\n",
        "clf, accuracy = trainLogisticRegression(X_train, X_test, y_train, y_test)\n",
        "print(accuracy)"
      ]
    },
    {
      "cell_type": "code",
      "execution_count": 45,
      "metadata": {
        "colab": {
          "base_uri": "https://localhost:8080/"
        },
        "id": "BrilyjN9EzBt",
        "outputId": "0d5d71b5-6bdc-4def-8759-7473f4d52556"
      },
      "outputs": [
        {
          "output_type": "stream",
          "name": "stdout",
          "text": [
            "Score: 1 with confidence: 0.8274548303459521\n"
          ]
        }
      ],
      "source": [
        "# 2.9 (4 pts.)\n",
        "# Fill in the scoreTest function to vectorize and evaluate the prediction as well as confidence scores in the prediction given\n",
        "# any text. You may want to go through the sklearn LogisticRegression documents found here:\n",
        "# https://scikit-learn.org/stable/modules/generated/sklearn.linear_model.LogisticRegression.html\n",
        "# to come up with an answer.\n",
        "# RETURN: predicted label (score), predicted confidence interval (confidence) both as decimal numbers\n",
        "text = 'I love the work you are doing'\n",
        "score, confidence = scoreText(clf, vectorizer, text)\n",
        "print(f'Score: {score} with confidence: {confidence}')"
      ]
    },
    {
      "cell_type": "code",
      "source": [
        "text = 'I do not love this movie'\n",
        "score, confidence = scoreText(clf, vectorizer, text)\n",
        "print(f'Score: {score} with confidence: {confidence}')"
      ],
      "metadata": {
        "colab": {
          "base_uri": "https://localhost:8080/"
        },
        "id": "ShJqlGV6Ddol",
        "outputId": "4629d5dc-c4af-45c3-b764-c0bb1e5dcfad"
      },
      "execution_count": 46,
      "outputs": [
        {
          "output_type": "stream",
          "name": "stdout",
          "text": [
            "Score: 1 with confidence: 0.2722602581536058\n"
          ]
        }
      ]
    },
    {
      "cell_type": "code",
      "execution_count": 47,
      "metadata": {
        "colab": {
          "base_uri": "https://localhost:8080/"
        },
        "id": "A-VJELQxEzBt",
        "outputId": "5e5b6ece-b138-4007-cd23-ec84149e79e5"
      },
      "outputs": [
        {
          "output_type": "stream",
          "name": "stdout",
          "text": [
            "[[0. 0. 0. ... 0. 0. 0.]\n",
            " [0. 0. 0. ... 0. 0. 0.]\n",
            " [0. 0. 0. ... 0. 0. 0.]\n",
            " ...\n",
            " [0. 0. 0. ... 0. 0. 0.]\n",
            " [0. 0. 0. ... 0. 0. 0.]\n",
            " [0. 0. 0. ... 0. 0. 0.]]\n",
            "[1 1 1 ... 0 0 0]\n"
          ]
        }
      ],
      "source": [
        "# 2.10 (3 pts.) \n",
        "# Similar to countVectorize, use the TfidfVectorizer to vectorize our data using the TfIdf method.\n",
        "# RETURN: X, y with the same shapes as countVectorize\n",
        "X, y, vectorizer = tfidfVectorize(df)\n",
        "print(X)\n",
        "print(y)"
      ]
    },
    {
      "cell_type": "code",
      "execution_count": 48,
      "metadata": {
        "colab": {
          "base_uri": "https://localhost:8080/"
        },
        "id": "g5fk_eqCEzBt",
        "outputId": "79d99fc6-f885-4dfd-cfad-83e0c7904933"
      },
      "outputs": [
        {
          "output_type": "stream",
          "name": "stdout",
          "text": [
            "XTrain length: 4500, XTest length: 1500, YTrain length: 4500, YTest length: 1500\n",
            "0.8913333333333333\n"
          ]
        }
      ],
      "source": [
        "# Here we re-run the training process to see how TfIdf compares to a simple frequency binning. No modifications necessary.\n",
        "X_train, X_test, y_train, y_test = splitData(X, y)\n",
        "print(f'XTrain length: {len(X_train)}, XTest length: {len(X_test)}, YTrain length: {len(y_train)}, YTest length: {len(y_test)}')\n",
        "\n",
        "clf, accuracy = trainLogisticRegression(X_train, X_test, y_train, y_test)\n",
        "print(accuracy)"
      ]
    },
    {
      "cell_type": "markdown",
      "metadata": {
        "id": "KKOngRl8EzBu"
      },
      "source": [
        "## Extra Space \n",
        "Make new cells after here if you need extra space to answer analysis questions or think about problems"
      ]
    },
    {
      "cell_type": "code",
      "execution_count": null,
      "metadata": {
        "id": "o6MbOfqEEzBu"
      },
      "outputs": [],
      "source": [
        ""
      ]
    }
  ],
  "metadata": {
    "colab": {
      "collapsed_sections": [],
      "name": "hw1.ipynb",
      "provenance": []
    },
    "kernelspec": {
      "display_name": "Python 3.8.1 64-bit",
      "name": "python381jvsc74a57bd04ce0e62306dd6a5716965d4519ada776f947e6dfc145b604b11307c10277ef29"
    },
    "language_info": {
      "codemirror_mode": {
        "name": "ipython",
        "version": 3
      },
      "file_extension": ".py",
      "mimetype": "text/x-python",
      "name": "python",
      "nbconvert_exporter": "python",
      "pygments_lexer": "ipython3",
      "version": "3.8.1"
    },
    "metadata": {
      "interpreter": {
        "hash": "4ce0e62306dd6a5716965d4519ada776f947e6dfc145b604b11307c10277ef29"
      }
    }
  },
  "nbformat": 4,
  "nbformat_minor": 0
}